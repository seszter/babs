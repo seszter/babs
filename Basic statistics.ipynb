{
 "cells": [
  {
   "cell_type": "code",
   "execution_count": 1,
   "metadata": {
    "collapsed": true
   },
   "outputs": [],
   "source": [
    "import os\n",
    "import pandas as pd\n",
    "import numpy as np\n",
    "import datetime as dt\n",
    "%matplotlib inline\n",
    "import matplotlib\n",
    "matplotlib.style.use('ggplot')\n",
    "matplotlib.pyplot.rcParams['figure.figsize'] = (15, 3)\n",
    "matplotlib.pyplot.rcParams['font.family'] = 'sans-serif'\n",
    "#import seaborn\n",
    "import pickle"
   ]
  },
  {
   "cell_type": "code",
   "execution_count": null,
   "metadata": {
    "collapsed": true
   },
   "outputs": [],
   "source": [
    "pwd = os.getcwd()"
   ]
  },
  {
   "cell_type": "code",
   "execution_count": 11,
   "metadata": {
    "collapsed": true
   },
   "outputs": [],
   "source": [
    "with open('trip_df.pickle', 'rb') as handle:\n",
    "    trip_df = pickle.load(handle)"
   ]
  },
  {
   "cell_type": "markdown",
   "metadata": {},
   "source": [
    "# Speed "
   ]
  },
  {
   "cell_type": "code",
   "execution_count": 6,
   "metadata": {
    "collapsed": false
   },
   "outputs": [
    {
     "data": {
      "text/plain": [
       "<matplotlib.axes._subplots.AxesSubplot at 0x109d7ee10>"
      ]
     },
     "execution_count": 6,
     "metadata": {},
     "output_type": "execute_result"
    },
    {
     "data": {
      "image/png": "[encoded data removed]",
      "text/plain": [
       "<matplotlib.figure.Figure at 0x10b9dd358>"
      ]
     },
     "metadata": {},
     "output_type": "display_data"
    }
   ],
   "source": [
    "trip_df.boxplot(['distance'], return_type='axes')"
   ]
  },
  {
   "cell_type": "code",
   "execution_count": 10,
   "metadata": {
    "collapsed": false
   },
   "outputs": [
    {
     "data": {
      "text/html": [
       "<div>\n",
       "<table border=\"1\" class=\"dataframe\">\n",
       "  <thead>\n",
       "    <tr style=\"text-align: right;\">\n",
       "      <th></th>\n",
       "      <th>Bike #</th>\n",
       "      <th>Duration</th>\n",
       "      <th>end_date</th>\n",
       "      <th>End Station</th>\n",
       "      <th>End Terminal</th>\n",
       "      <th>start_date</th>\n",
       "      <th>Start Station</th>\n",
       "      <th>Start Terminal</th>\n",
       "      <th>Subscriber Type</th>\n",
       "      <th>Trip ID</th>\n",
       "      <th>...</th>\n",
       "      <th>end_lat_rad</th>\n",
       "      <th>end_lon_rad</th>\n",
       "      <th>dLON</th>\n",
       "      <th>dLAT</th>\n",
       "      <th>a1</th>\n",
       "      <th>a2</th>\n",
       "      <th>a3</th>\n",
       "      <th>a4</th>\n",
       "      <th>a</th>\n",
       "      <th>distance</th>\n",
       "    </tr>\n",
       "  </thead>\n",
       "  <tbody>\n",
       "    <tr>\n",
       "      <th>70821</th>\n",
       "      <td>30</td>\n",
       "      <td>12088</td>\n",
       "      <td>2013-11-16 14:07:00</td>\n",
       "      <td>Civic Center BART (7th at Market)</td>\n",
       "      <td>72</td>\n",
       "      <td>2013-11-16 10:46:00</td>\n",
       "      <td>San Jose Civic Center</td>\n",
       "      <td>3</td>\n",
       "      <td>Customer</td>\n",
       "      <td>98343</td>\n",
       "      <td>...</td>\n",
       "      <td>0.659392</td>\n",
       "      <td>-2.136508</td>\n",
       "      <td>0.009144</td>\n",
       "      <td>-0.007848</td>\n",
       "      <td>0.000015</td>\n",
       "      <td>0.790365</td>\n",
       "      <td>0.795149</td>\n",
       "      <td>0.000021</td>\n",
       "      <td>0.000029</td>\n",
       "      <td>68.023961</td>\n",
       "    </tr>\n",
       "  </tbody>\n",
       "</table>\n",
       "<p>1 rows × 31 columns</p>\n",
       "</div>"
      ],
      "text/plain": [
       "       Bike #  Duration            end_date  \\\n",
       "70821      30     12088 2013-11-16 14:07:00   \n",
       "\n",
       "                             End Station  End Terminal          start_date  \\\n",
       "70821  Civic Center BART (7th at Market)            72 2013-11-16 10:46:00   \n",
       "\n",
       "               Start Station  Start Terminal Subscriber Type  Trip ID  \\\n",
       "70821  San Jose Civic Center               3        Customer    98343   \n",
       "\n",
       "         ...     end_lat_rad end_lon_rad      dLON      dLAT        a1  \\\n",
       "70821    ...        0.659392   -2.136508  0.009144 -0.007848  0.000015   \n",
       "\n",
       "             a2        a3        a4         a   distance  \n",
       "70821  0.790365  0.795149  0.000021  0.000029  68.023961  \n",
       "\n",
       "[1 rows x 31 columns]"
      ]
     },
     "execution_count": 10,
     "metadata": {},
     "output_type": "execute_result"
    }
   ],
   "source": [
    "trip_df[trip_df['distance']>=68]"
   ]
  },
  {
   "cell_type": "code",
   "execution_count": 12,
   "metadata": {
    "collapsed": false
   },
   "outputs": [
    {
     "data": {
      "text/plain": [
       "<matplotlib.axes._subplots.AxesSubplot at 0x10aa1c400>"
      ]
     },
     "execution_count": 12,
     "metadata": {},
     "output_type": "execute_result"
    },
    {
     "data": {
      "image/png": "[encoded data removed]",
      "text/plain": [
       "<matplotlib.figure.Figure at 0x10a9fccf8>"
      ]
     },
     "metadata": {},
     "output_type": "display_data"
    }
   ],
   "source": [
    "trip_df.boxplot(['kph'], return_type='axes')"
   ]
  },
  {
   "cell_type": "code",
   "execution_count": 13,
   "metadata": {
    "collapsed": false
   },
   "outputs": [
    {
     "data": {
      "text/html": [
       "<div>\n",
       "<table border=\"1\" class=\"dataframe\">\n",
       "  <thead>\n",
       "    <tr style=\"text-align: right;\">\n",
       "      <th></th>\n",
       "      <th>Bike #</th>\n",
       "      <th>Duration</th>\n",
       "      <th>end_date</th>\n",
       "      <th>End Station</th>\n",
       "      <th>End Terminal</th>\n",
       "      <th>start_date</th>\n",
       "      <th>Start Station</th>\n",
       "      <th>Start Terminal</th>\n",
       "      <th>Subscriber Type</th>\n",
       "      <th>Trip ID</th>\n",
       "      <th>...</th>\n",
       "      <th>end_lon_rad</th>\n",
       "      <th>dLON</th>\n",
       "      <th>dLAT</th>\n",
       "      <th>a1</th>\n",
       "      <th>a2</th>\n",
       "      <th>a3</th>\n",
       "      <th>a4</th>\n",
       "      <th>a</th>\n",
       "      <th>distance</th>\n",
       "      <th>kph</th>\n",
       "    </tr>\n",
       "  </thead>\n",
       "  <tbody>\n",
       "    <tr>\n",
       "      <th>28563</th>\n",
       "      <td>232</td>\n",
       "      <td>236</td>\n",
       "      <td>2013-10-02 08:31:00</td>\n",
       "      <td>Civic Center BART (7th at Market)</td>\n",
       "      <td>72</td>\n",
       "      <td>2013-10-02 08:27:00</td>\n",
       "      <td>Redwood City Caltrain Station</td>\n",
       "      <td>22</td>\n",
       "      <td>Subscriber</td>\n",
       "      <td>42493</td>\n",
       "      <td>...</td>\n",
       "      <td>-2.136508</td>\n",
       "      <td>0.003156</td>\n",
       "      <td>-0.005136</td>\n",
       "      <td>0.000007</td>\n",
       "      <td>0.790365</td>\n",
       "      <td>0.793501</td>\n",
       "      <td>0.000002</td>\n",
       "      <td>0.000008</td>\n",
       "      <td>36.368195</td>\n",
       "      <td>554.769073</td>\n",
       "    </tr>\n",
       "  </tbody>\n",
       "</table>\n",
       "<p>1 rows × 32 columns</p>\n",
       "</div>"
      ],
      "text/plain": [
       "       Bike #  Duration            end_date  \\\n",
       "28563     232       236 2013-10-02 08:31:00   \n",
       "\n",
       "                             End Station  End Terminal          start_date  \\\n",
       "28563  Civic Center BART (7th at Market)            72 2013-10-02 08:27:00   \n",
       "\n",
       "                       Start Station  Start Terminal Subscriber Type  Trip ID  \\\n",
       "28563  Redwood City Caltrain Station              22      Subscriber    42493   \n",
       "\n",
       "          ...     end_lon_rad      dLON      dLAT        a1        a2  \\\n",
       "28563     ...       -2.136508  0.003156 -0.005136  0.000007  0.790365   \n",
       "\n",
       "             a3        a4         a   distance         kph  \n",
       "28563  0.793501  0.000002  0.000008  36.368195  554.769073  \n",
       "\n",
       "[1 rows x 32 columns]"
      ]
     },
     "execution_count": 13,
     "metadata": {},
     "output_type": "execute_result"
    }
   ],
   "source": [
    "# this doesn't look humanly possible, so let's remove this datapoint \n",
    "trip_df[trip_df['kph']>500]"
   ]
  },
  {
   "cell_type": "code",
   "execution_count": 14,
   "metadata": {
    "collapsed": true
   },
   "outputs": [],
   "source": [
    "trip_df = trip_df[trip_df['kph']<500]"
   ]
  },
  {
   "cell_type": "code",
   "execution_count": 15,
   "metadata": {
    "collapsed": false
   },
   "outputs": [
    {
     "data": {
      "text/plain": [
       "<matplotlib.axes._subplots.AxesSubplot at 0x10a9ef0b8>"
      ]
     },
     "execution_count": 15,
     "metadata": {},
     "output_type": "execute_result"
    },
    {
     "data": {
      "image/png": "[encoded data removed]",
      "text/plain": [
       "<matplotlib.figure.Figure at 0x10a9fae48>"
      ]
     },
     "metadata": {},
     "output_type": "display_data"
    }
   ],
   "source": [
    "trip_df.boxplot(['kph'], return_type='axes')"
   ]
  },
  {
   "cell_type": "code",
   "execution_count": 16,
   "metadata": {
    "collapsed": false
   },
   "outputs": [
    {
     "data": {
      "text/html": [
       "<div>\n",
       "<table border=\"1\" class=\"dataframe\">\n",
       "  <thead>\n",
       "    <tr style=\"text-align: right;\">\n",
       "      <th></th>\n",
       "      <th>Bike #</th>\n",
       "      <th>Duration</th>\n",
       "      <th>end_date</th>\n",
       "      <th>End Station</th>\n",
       "      <th>End Terminal</th>\n",
       "      <th>start_date</th>\n",
       "      <th>Start Station</th>\n",
       "      <th>Start Terminal</th>\n",
       "      <th>Subscriber Type</th>\n",
       "      <th>Trip ID</th>\n",
       "      <th>...</th>\n",
       "      <th>end_lon_rad</th>\n",
       "      <th>dLON</th>\n",
       "      <th>dLAT</th>\n",
       "      <th>a1</th>\n",
       "      <th>a2</th>\n",
       "      <th>a3</th>\n",
       "      <th>a4</th>\n",
       "      <th>a</th>\n",
       "      <th>distance</th>\n",
       "      <th>kph</th>\n",
       "    </tr>\n",
       "  </thead>\n",
       "  <tbody>\n",
       "    <tr>\n",
       "      <th>109190</th>\n",
       "      <td>422</td>\n",
       "      <td>2525</td>\n",
       "      <td>2014-01-13 17:29:00</td>\n",
       "      <td>Redwood City Caltrain Station</td>\n",
       "      <td>22</td>\n",
       "      <td>2014-01-13 16:46:00</td>\n",
       "      <td>2nd at Townsend</td>\n",
       "      <td>61</td>\n",
       "      <td>Subscriber</td>\n",
       "      <td>151731</td>\n",
       "      <td>...</td>\n",
       "      <td>-2.133352</td>\n",
       "      <td>-0.002761</td>\n",
       "      <td>0.005139</td>\n",
       "      <td>0.000007</td>\n",
       "      <td>0.793501</td>\n",
       "      <td>0.790363</td>\n",
       "      <td>0.000002</td>\n",
       "      <td>0.000008</td>\n",
       "      <td>35.559243</td>\n",
       "      <td>50.698327</td>\n",
       "    </tr>\n",
       "    <tr>\n",
       "      <th>178048</th>\n",
       "      <td>705</td>\n",
       "      <td>3553</td>\n",
       "      <td>2014-07-29 19:32:00</td>\n",
       "      <td>San Francisco Caltrain (Townsend at 4th)</td>\n",
       "      <td>70</td>\n",
       "      <td>2014-07-29 18:33:00</td>\n",
       "      <td>California Ave Caltrain Station</td>\n",
       "      <td>36</td>\n",
       "      <td>Subscriber</td>\n",
       "      <td>385606</td>\n",
       "      <td>...</td>\n",
       "      <td>-2.136200</td>\n",
       "      <td>0.004406</td>\n",
       "      <td>-0.006066</td>\n",
       "      <td>0.000009</td>\n",
       "      <td>0.790405</td>\n",
       "      <td>0.794106</td>\n",
       "      <td>0.000005</td>\n",
       "      <td>0.000012</td>\n",
       "      <td>44.558834</td>\n",
       "      <td>45.148270</td>\n",
       "    </tr>\n",
       "    <tr>\n",
       "      <th>282653</th>\n",
       "      <td>446</td>\n",
       "      <td>3237</td>\n",
       "      <td>2014-04-10 18:29:00</td>\n",
       "      <td>Redwood City Caltrain Station</td>\n",
       "      <td>22</td>\n",
       "      <td>2014-04-10 17:35:00</td>\n",
       "      <td>Commercial at Montgomery</td>\n",
       "      <td>45</td>\n",
       "      <td>Customer</td>\n",
       "      <td>244143</td>\n",
       "      <td>...</td>\n",
       "      <td>-2.133352</td>\n",
       "      <td>-0.002982</td>\n",
       "      <td>0.005378</td>\n",
       "      <td>0.000007</td>\n",
       "      <td>0.793501</td>\n",
       "      <td>0.790217</td>\n",
       "      <td>0.000002</td>\n",
       "      <td>0.000009</td>\n",
       "      <td>37.397851</td>\n",
       "      <td>41.591678</td>\n",
       "    </tr>\n",
       "  </tbody>\n",
       "</table>\n",
       "<p>3 rows × 32 columns</p>\n",
       "</div>"
      ],
      "text/plain": [
       "        Bike #  Duration            end_date  \\\n",
       "109190     422      2525 2014-01-13 17:29:00   \n",
       "178048     705      3553 2014-07-29 19:32:00   \n",
       "282653     446      3237 2014-04-10 18:29:00   \n",
       "\n",
       "                                     End Station  End Terminal  \\\n",
       "109190             Redwood City Caltrain Station            22   \n",
       "178048  San Francisco Caltrain (Townsend at 4th)            70   \n",
       "282653             Redwood City Caltrain Station            22   \n",
       "\n",
       "                start_date                    Start Station  Start Terminal  \\\n",
       "109190 2014-01-13 16:46:00                  2nd at Townsend              61   \n",
       "178048 2014-07-29 18:33:00  California Ave Caltrain Station              36   \n",
       "282653 2014-04-10 17:35:00         Commercial at Montgomery              45   \n",
       "\n",
       "       Subscriber Type  Trip ID    ...     end_lon_rad      dLON      dLAT  \\\n",
       "109190      Subscriber   151731    ...       -2.133352 -0.002761  0.005139   \n",
       "178048      Subscriber   385606    ...       -2.136200  0.004406 -0.006066   \n",
       "282653        Customer   244143    ...       -2.133352 -0.002982  0.005378   \n",
       "\n",
       "              a1        a2        a3        a4         a   distance        kph  \n",
       "109190  0.000007  0.793501  0.790363  0.000002  0.000008  35.559243  50.698327  \n",
       "178048  0.000009  0.790405  0.794106  0.000005  0.000012  44.558834  45.148270  \n",
       "282653  0.000007  0.793501  0.790217  0.000002  0.000009  37.397851  41.591678  \n",
       "\n",
       "[3 rows x 32 columns]"
      ]
     },
     "execution_count": 16,
     "metadata": {},
     "output_type": "execute_result"
    }
   ],
   "source": [
    "trip_df[trip_df['kph']>40]"
   ]
  },
  {
   "cell_type": "code",
   "execution_count": null,
   "metadata": {
    "collapsed": true
   },
   "outputs": [],
   "source": [
    "# according to wikipedia \n",
    "# On a racing bicycle, a reasonably fit rider can ride at 40 km/h (25 mph) on flat ground for short periods\n",
    "# meaning that we can assume that these trips were made by car (cycle transport) or the data is incorrect \n"
   ]
  },
  {
   "cell_type": "code",
   "execution_count": 17,
   "metadata": {
    "collapsed": true
   },
   "outputs": [],
   "source": [
    "trip_df = trip_df[trip_df['kph']<40]"
   ]
  },
  {
   "cell_type": "code",
   "execution_count": 18,
   "metadata": {
    "collapsed": false
   },
   "outputs": [
    {
     "data": {
      "text/plain": [
       "<matplotlib.axes._subplots.AxesSubplot at 0x10a921c50>"
      ]
     },
     "execution_count": 18,
     "metadata": {},
     "output_type": "execute_result"
    },
    {
     "data": {
      "image/png": "[encoded data removed]",
      "text/plain": [
       "<matplotlib.figure.Figure at 0x10aa31b70>"
      ]
     },
     "metadata": {},
     "output_type": "display_data"
    }
   ],
   "source": [
    "trip_df.boxplot(['kph'], return_type='axes')"
   ]
  },
  {
   "cell_type": "code",
   "execution_count": 19,
   "metadata": {
    "collapsed": false
   },
   "outputs": [
    {
     "data": {
      "text/html": [
       "<div>\n",
       "<table border=\"1\" class=\"dataframe\">\n",
       "  <thead>\n",
       "    <tr style=\"text-align: right;\">\n",
       "      <th></th>\n",
       "      <th>Bike #</th>\n",
       "      <th>Duration</th>\n",
       "      <th>end_date</th>\n",
       "      <th>End Station</th>\n",
       "      <th>End Terminal</th>\n",
       "      <th>start_date</th>\n",
       "      <th>Start Station</th>\n",
       "      <th>Start Terminal</th>\n",
       "      <th>Subscriber Type</th>\n",
       "      <th>Trip ID</th>\n",
       "      <th>...</th>\n",
       "      <th>end_lon_rad</th>\n",
       "      <th>dLON</th>\n",
       "      <th>dLAT</th>\n",
       "      <th>a1</th>\n",
       "      <th>a2</th>\n",
       "      <th>a3</th>\n",
       "      <th>a4</th>\n",
       "      <th>a</th>\n",
       "      <th>distance</th>\n",
       "      <th>kph</th>\n",
       "    </tr>\n",
       "  </thead>\n",
       "  <tbody>\n",
       "    <tr>\n",
       "      <th>207899</th>\n",
       "      <td>561</td>\n",
       "      <td>246</td>\n",
       "      <td>2014-06-29 16:36:00</td>\n",
       "      <td>Townsend at 7th</td>\n",
       "      <td>65</td>\n",
       "      <td>2014-06-29 16:32:00</td>\n",
       "      <td>Embarcadero at Folsom</td>\n",
       "      <td>51</td>\n",
       "      <td>Subscriber</td>\n",
       "      <td>344040</td>\n",
       "      <td>...</td>\n",
       "      <td>-2.13633</td>\n",
       "      <td>0.000204</td>\n",
       "      <td>0.000356</td>\n",
       "      <td>3.171104e-08</td>\n",
       "      <td>0.790465</td>\n",
       "      <td>0.790246</td>\n",
       "      <td>1.039450e-08</td>\n",
       "      <td>3.820409e-08</td>\n",
       "      <td>2.488971</td>\n",
       "      <td>36.423959</td>\n",
       "    </tr>\n",
       "  </tbody>\n",
       "</table>\n",
       "<p>1 rows × 32 columns</p>\n",
       "</div>"
      ],
      "text/plain": [
       "        Bike #  Duration            end_date      End Station  End Terminal  \\\n",
       "207899     561       246 2014-06-29 16:36:00  Townsend at 7th            65   \n",
       "\n",
       "                start_date          Start Station  Start Terminal  \\\n",
       "207899 2014-06-29 16:32:00  Embarcadero at Folsom              51   \n",
       "\n",
       "       Subscriber Type  Trip ID    ...     end_lon_rad      dLON      dLAT  \\\n",
       "207899      Subscriber   344040    ...        -2.13633  0.000204  0.000356   \n",
       "\n",
       "                  a1        a2        a3            a4             a  \\\n",
       "207899  3.171104e-08  0.790465  0.790246  1.039450e-08  3.820409e-08   \n",
       "\n",
       "        distance        kph  \n",
       "207899  2.488971  36.423959  \n",
       "\n",
       "[1 rows x 32 columns]"
      ]
     },
     "execution_count": 19,
     "metadata": {},
     "output_type": "execute_result"
    }
   ],
   "source": [
    "# this starts to be beliavable so let's assume someone is really fit in San Fransisco\n",
    "trip_df[trip_df['kph']>34]"
   ]
  },
  {
   "cell_type": "code",
   "execution_count": 21,
   "metadata": {
    "collapsed": false
   },
   "outputs": [
    {
     "data": {
      "text/plain": [
       "8.811347383459195"
      ]
     },
     "execution_count": 21,
     "metadata": {},
     "output_type": "execute_result"
    }
   ],
   "source": [
    "# average speed\n",
    "trip_df['kph'].mean()"
   ]
  },
  {
   "cell_type": "markdown",
   "metadata": {},
   "source": [
    "# Route"
   ]
  },
  {
   "cell_type": "code",
   "execution_count": 22,
   "metadata": {
    "collapsed": true
   },
   "outputs": [],
   "source": [
    "routes = trip_df.groupby([trip_df['Start Station'], trip_df['End Station']]).count()"
   ]
  },
  {
   "cell_type": "code",
   "execution_count": 25,
   "metadata": {
    "collapsed": false
   },
   "outputs": [],
   "source": [
    "routes.reset_index(inplace=True)"
   ]
  },
  {
   "cell_type": "code",
   "execution_count": 29,
   "metadata": {
    "collapsed": true
   },
   "outputs": [],
   "source": [
    "routes['count'] = routes['Duration']"
   ]
  },
  {
   "cell_type": "code",
   "execution_count": 30,
   "metadata": {
    "collapsed": false
   },
   "outputs": [
    {
     "data": {
      "text/plain": [
       "<matplotlib.axes._subplots.AxesSubplot at 0x10aac5278>"
      ]
     },
     "execution_count": 30,
     "metadata": {},
     "output_type": "execute_result"
    },
    {
     "data": {
      "image/png": "[encoded data removed]",
      "text/plain": [
       "<matplotlib.figure.Figure at 0x10b5ddbe0>"
      ]
     },
     "metadata": {},
     "output_type": "display_data"
    }
   ],
   "source": [
    "routes.boxplot(['count'], return_type='axes')"
   ]
  },
  {
   "cell_type": "code",
   "execution_count": 34,
   "metadata": {
    "collapsed": false
   },
   "outputs": [],
   "source": [
    "# most popular route\n",
    "routes[routes['count']==routes['count'].max()]\n",
    "most_popular_start = routes[routes['count']==routes['count'].max()]['Start Station']\n",
    "most_popular_end = routes[routes['count']==routes['count'].max()]['End Station']"
   ]
  },
  {
   "cell_type": "code",
   "execution_count": 48,
   "metadata": {
    "collapsed": false
   },
   "outputs": [
    {
     "data": {
      "text/plain": [
       "7.963524459446054"
      ]
     },
     "execution_count": 48,
     "metadata": {},
     "output_type": "execute_result"
    }
   ],
   "source": [
    "# average speed on the most popular route\n",
    "most_popular_trips = trip_df[(trip_df['Start Station']==most_popular_start.values[0]) & (trip_df['End Station']==most_popular_end.values[0])]\n",
    "most_popular_trips['kph'].mean()"
   ]
  },
  {
   "cell_type": "code",
   "execution_count": 49,
   "metadata": {
    "collapsed": false
   },
   "outputs": [
    {
     "data": {
      "text/plain": [
       "('Harry Bridges Plaza (Ferry Building)', 'Embarcadero at Sansome')"
      ]
     },
     "execution_count": 49,
     "metadata": {},
     "output_type": "execute_result"
    }
   ],
   "source": [
    "most_popular_start.values[0], most_popular_end.values[0]"
   ]
  },
  {
   "cell_type": "code",
   "execution_count": null,
   "metadata": {
    "collapsed": true
   },
   "outputs": [],
   "source": []
  }
 ],
 "metadata": {
  "kernelspec": {
   "display_name": "Python 3",
   "language": "python",
   "name": "python3"
  },
  "language_info": {
   "codemirror_mode": {
    "name": "ipython",
    "version": 3
   },
   "file_extension": ".py",
   "mimetype": "text/x-python",
   "name": "python",
   "nbconvert_exporter": "python",
   "pygments_lexer": "ipython3",
   "version": "3.4.3"
  }
 },
 "nbformat": 4,
 "nbformat_minor": 0
}
