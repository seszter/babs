{
 "cells": [
  {
   "cell_type": "code",
   "execution_count": 51,
   "metadata": {
    "collapsed": true
   },
   "outputs": [],
   "source": [
    "import os\n",
    "import pandas as pd\n",
    "import numpy as np\n",
    "import datetime as dt\n",
    "%matplotlib inline\n",
    "import matplotlib\n",
    "matplotlib.style.use('ggplot')\n",
    "matplotlib.pyplot.rcParams['figure.figsize'] = (15, 3)\n",
    "matplotlib.pyplot.rcParams['font.family'] = 'sans-serif'\n",
    "#import seaborn\n",
    "import pickle\n",
    "from sklearn.linear_model import Ridge, Lasso, ElasticNet\n",
    "from sklearn.preprocessing import OneHotEncoder, LabelEncoder\n",
    "from sklearn import preprocessing\n",
    "from sklearn import cross_validation\n",
    "from sklearn.base import BaseEstimator, RegressorMixin\n",
    "from sklearn.cross_validation import train_test_split"
   ]
  },
  {
   "cell_type": "markdown",
   "metadata": {},
   "source": [
    "# Preparing the dataset"
   ]
  },
  {
   "cell_type": "code",
   "execution_count": 3,
   "metadata": {
    "collapsed": false
   },
   "outputs": [],
   "source": [
    "with open('stations_min_filtered.pickle', 'rb') as handle:\n",
    "    stations_min_filtered = pickle.load(handle)"
   ]
  },
  {
   "cell_type": "code",
   "execution_count": 4,
   "metadata": {
    "collapsed": false
   },
   "outputs": [
    {
     "data": {
      "text/plain": [
       "Index(['day', 'station_id', 'bikes_available', 'docks_available', 'time',\n",
       "       'is_holiday', 'landmark', 'dockcount', 'Date', 'Max_Temperature_F',\n",
       "       'Mean_Temperature_F', 'Min_TemperatureF', 'Max_Dew_Point_F',\n",
       "       'MeanDew_Point_F', 'Min_Dewpoint_F', 'Max_Humidity', 'Mean_Humidity ',\n",
       "       'Min_Humidity ', 'Max_Sea_Level_Pressure_In ',\n",
       "       'Mean_Sea_Level_Pressure_In ', 'Min_Sea_Level_Pressure_In ',\n",
       "       'Max_Visibility_Miles ', 'Mean_Visibility_Miles ',\n",
       "       'Min_Visibility_Miles ', 'Max_Wind_Speed_MPH ', 'Mean_Wind_Speed_MPH ',\n",
       "       'Max_Gust_Speed_MPH', 'Precipitation_In ', 'Cloud_Cover ', 'Events',\n",
       "       'Wind_Dir_Degrees', 'zip', 'trips_all_year'],\n",
       "      dtype='object')"
      ]
     },
     "execution_count": 4,
     "metadata": {},
     "output_type": "execute_result"
    }
   ],
   "source": [
    "stations_min_filtered.columns"
   ]
  },
  {
   "cell_type": "code",
   "execution_count": 5,
   "metadata": {
    "collapsed": true
   },
   "outputs": [],
   "source": [
    "# generating np.array of predictors\n",
    "X = stations_min_filtered[['is_holiday', 'dockcount', 'trips_all_year', 'Max_Temperature_F',\n",
    "       'Mean_Temperature_F', 'Min_TemperatureF', 'Max_Dew_Point_F',\n",
    "       'MeanDew_Point_F', 'Min_Dewpoint_F', 'Max_Humidity', 'Mean_Humidity ',\n",
    "       'Min_Humidity ', 'Max_Sea_Level_Pressure_In ',\n",
    "       'Mean_Sea_Level_Pressure_In ', 'Min_Sea_Level_Pressure_In ',\n",
    "       'Max_Visibility_Miles ', 'Mean_Visibility_Miles ',\n",
    "       'Min_Visibility_Miles ', 'Max_Wind_Speed_MPH ', 'Mean_Wind_Speed_MPH ',\n",
    "       'Max_Gust_Speed_MPH', 'Precipitation_In ', 'Cloud_Cover ']].fillna(.0).values"
   ]
  },
  {
   "cell_type": "code",
   "execution_count": 6,
   "metadata": {
    "collapsed": true
   },
   "outputs": [],
   "source": [
    "# standardization of the predictors\n",
    "X_scaled = preprocessing.scale(X)"
   ]
  },
  {
   "cell_type": "code",
   "execution_count": 7,
   "metadata": {
    "collapsed": false
   },
   "outputs": [],
   "source": [
    "# transforming categorical data to dummy variables\n",
    "encoder = OneHotEncoder()\n",
    "label_encoder = LabelEncoder()"
   ]
  },
  {
   "cell_type": "code",
   "execution_count": 8,
   "metadata": {
    "collapsed": true
   },
   "outputs": [],
   "source": [
    "# encodin city names to numerical variables\n",
    "landmark_label_encoded = label_encoder.fit_transform(stations_min_filtered['landmark'])"
   ]
  },
  {
   "cell_type": "code",
   "execution_count": 9,
   "metadata": {
    "collapsed": true
   },
   "outputs": [],
   "source": [
    "# transforming categorical data to vectors\n",
    "stations_min_filtered['landmark'] = landmark_label_encoded\n",
    "landmark_one_hot_encoded = encoder.fit_transform(stations_min_filtered[['landmark']].as_matrix())\n",
    "station_id_one_hot_encoded = encoder.fit_transform(stations_min_filtered[['station_id']].as_matrix())"
   ]
  },
  {
   "cell_type": "code",
   "execution_count": 11,
   "metadata": {
    "collapsed": true
   },
   "outputs": [],
   "source": [
    "# converting the sparcse matrices to arrays so they can be joined with the X array\n",
    "landmark_one_hot_encoded = landmark_one_hot_encoded.toarray()\n",
    "station_id_one_hot_encoded = station_id_one_hot_encoded.toarray()"
   ]
  },
  {
   "cell_type": "code",
   "execution_count": 12,
   "metadata": {
    "collapsed": false
   },
   "outputs": [],
   "source": [
    "# adding these dummies to the predictors\n",
    "X_matrix = np.hstack((X_scaled, landmark_one_hot_encoded, station_id_one_hot_encoded))"
   ]
  },
  {
   "cell_type": "code",
   "execution_count": 13,
   "metadata": {
    "collapsed": true
   },
   "outputs": [],
   "source": [
    "# selecting minimum bikes avaliable as the target variable\n",
    "y = stations_min_filtered[['bikes_available']].values"
   ]
  },
  {
   "cell_type": "markdown",
   "metadata": {},
   "source": [
    "# Baseline"
   ]
  },
  {
   "cell_type": "code",
   "execution_count": 44,
   "metadata": {
    "collapsed": true
   },
   "outputs": [],
   "source": [
    "# the accuracy of the models will be compared to a baseling: averaging the target values\n",
    "class BaselineRegressor(BaseEstimator, RegressorMixin):\n",
    " \n",
    "    def fit(self, X, y=None):\n",
    "        self.baseline = y.mean()\n",
    "    \n",
    "    def predict(self, X, y=None):\n",
    "        return np.ones((X.shape[0], )) * self.baseline"
   ]
  },
  {
   "cell_type": "code",
   "execution_count": 45,
   "metadata": {
    "collapsed": true
   },
   "outputs": [],
   "source": [
    "baseline = BaselineRegressor()"
   ]
  },
  {
   "cell_type": "code",
   "execution_count": 46,
   "metadata": {
    "collapsed": true
   },
   "outputs": [],
   "source": [
    "base_score = cross_validation.cross_val_score(baseline, X_matrix, y, cv=5)"
   ]
  },
  {
   "cell_type": "code",
   "execution_count": 47,
   "metadata": {
    "collapsed": false
   },
   "outputs": [
    {
     "name": "stdout",
     "output_type": "stream",
     "text": [
      "Accuracy: -0.01 (+/- 0.03)\n"
     ]
    }
   ],
   "source": [
    "print(\"Accuracy: %0.2f (+/- %0.2f)\" % (base_score.mean(), base_score.std() * 2))"
   ]
  },
  {
   "cell_type": "markdown",
   "metadata": {},
   "source": [
    "# Comparing three types of regularized regressions "
   ]
  },
  {
   "cell_type": "markdown",
   "metadata": {},
   "source": [
    "###Ridge"
   ]
  },
  {
   "cell_type": "code",
   "execution_count": 33,
   "metadata": {
    "collapsed": true
   },
   "outputs": [],
   "source": [
    "# Ridge regression model\n",
    "ridge = Ridge()"
   ]
  },
  {
   "cell_type": "code",
   "execution_count": 20,
   "metadata": {
    "collapsed": false
   },
   "outputs": [],
   "source": [
    "# trying 5 different train-test split variations to see how stabile the accuracy of the model is\n",
    "scores = cross_validation.cross_val_score(ridge, X_matrix, y, cv=5)"
   ]
  },
  {
   "cell_type": "code",
   "execution_count": 21,
   "metadata": {
    "collapsed": false
   },
   "outputs": [
    {
     "data": {
      "text/plain": [
       "array([ 0.38897577,  0.40995361,  0.43159714,  0.39121891,  0.4057716 ])"
      ]
     },
     "execution_count": 21,
     "metadata": {},
     "output_type": "execute_result"
    }
   ],
   "source": [
    "scores"
   ]
  },
  {
   "cell_type": "code",
   "execution_count": 22,
   "metadata": {
    "collapsed": false
   },
   "outputs": [
    {
     "name": "stdout",
     "output_type": "stream",
     "text": [
      "Accuracy: 0.41 (+/- 0.03)\n"
     ]
    }
   ],
   "source": [
    "print(\"Accuracy: %0.2f (+/- %0.2f)\" % (scores.mean(), scores.std() * 2))\n"
   ]
  },
  {
   "cell_type": "markdown",
   "metadata": {
    "collapsed": true
   },
   "source": [
    "## Lasso"
   ]
  },
  {
   "cell_type": "markdown",
   "metadata": {
    "collapsed": true
   },
   "source": [
    "the model proved to be a lot better than using the average"
   ]
  },
  {
   "cell_type": "code",
   "execution_count": 35,
   "metadata": {
    "collapsed": true
   },
   "outputs": [],
   "source": [
    "lasso = Lasso()"
   ]
  },
  {
   "cell_type": "code",
   "execution_count": 36,
   "metadata": {
    "collapsed": true
   },
   "outputs": [],
   "source": [
    "scores = cross_validation.cross_val_score(lasso, X_matrix, y, cv=5)"
   ]
  },
  {
   "cell_type": "code",
   "execution_count": 37,
   "metadata": {
    "collapsed": false
   },
   "outputs": [
    {
     "data": {
      "text/plain": [
       "array([ 0.02843985,  0.00383139,  0.03217167,  0.01004169,  0.03529133])"
      ]
     },
     "execution_count": 37,
     "metadata": {},
     "output_type": "execute_result"
    }
   ],
   "source": [
    "scores"
   ]
  },
  {
   "cell_type": "code",
   "execution_count": 38,
   "metadata": {
    "collapsed": false
   },
   "outputs": [
    {
     "name": "stdout",
     "output_type": "stream",
     "text": [
      "Accuracy: 0.02 (+/- 0.03)\n"
     ]
    }
   ],
   "source": [
    "print(\"Accuracy: %0.2f (+/- %0.2f)\" % (scores.mean(), scores.std() * 2))"
   ]
  },
  {
   "cell_type": "markdown",
   "metadata": {},
   "source": [
    "## ElasticNet"
   ]
  },
  {
   "cell_type": "code",
   "execution_count": 40,
   "metadata": {
    "collapsed": true
   },
   "outputs": [],
   "source": [
    "elastic = ElasticNet()"
   ]
  },
  {
   "cell_type": "code",
   "execution_count": 41,
   "metadata": {
    "collapsed": true
   },
   "outputs": [],
   "source": [
    "scores = cross_validation.cross_val_score(elastic, X_matrix, y, cv=5)"
   ]
  },
  {
   "cell_type": "code",
   "execution_count": 42,
   "metadata": {
    "collapsed": false
   },
   "outputs": [
    {
     "data": {
      "text/plain": [
       "array([ 0.14289944,  0.10542627,  0.1326918 ,  0.10540039,  0.12899194])"
      ]
     },
     "execution_count": 42,
     "metadata": {},
     "output_type": "execute_result"
    }
   ],
   "source": [
    "scores"
   ]
  },
  {
   "cell_type": "code",
   "execution_count": 43,
   "metadata": {
    "collapsed": false
   },
   "outputs": [
    {
     "name": "stdout",
     "output_type": "stream",
     "text": [
      "Accuracy: 0.12 (+/- 0.03)\n"
     ]
    }
   ],
   "source": [
    "print(\"Accuracy: %0.2f (+/- %0.2f)\" % (scores.mean(), scores.std() * 2))"
   ]
  },
  {
   "cell_type": "markdown",
   "metadata": {},
   "source": [
    "## The best is the ridge model, especially compared to the baseline"
   ]
  },
  {
   "cell_type": "code",
   "execution_count": 52,
   "metadata": {
    "collapsed": true
   },
   "outputs": [],
   "source": [
    "### checking with different type of split method\n",
    "X_train, X_test, y_train, y_test = train_test_split(X_matrix, y, test_size=0.33)"
   ]
  },
  {
   "cell_type": "code",
   "execution_count": 54,
   "metadata": {
    "collapsed": false
   },
   "outputs": [
    {
     "data": {
      "text/plain": [
       "Ridge(alpha=1.0, copy_X=True, fit_intercept=True, max_iter=None,\n",
       "   normalize=False, solver='auto', tol=0.001)"
      ]
     },
     "execution_count": 54,
     "metadata": {},
     "output_type": "execute_result"
    }
   ],
   "source": [
    "ridge = Ridge()\n",
    "ridge.fit(X_train, y_train)"
   ]
  },
  {
   "cell_type": "code",
   "execution_count": 55,
   "metadata": {
    "collapsed": false
   },
   "outputs": [],
   "source": [
    "y_hat = ridge.predict(X_test)"
   ]
  },
  {
   "cell_type": "code",
   "execution_count": 56,
   "metadata": {
    "collapsed": true
   },
   "outputs": [],
   "source": [
    "y_df = pd.DataFrame(y_test)\n",
    "y_df.columns = ['observed']\n",
    "y_df['predicted'] = y_hat\n",
    "y_df['diff'] = abs(y_df.observed - y_df.predicted)"
   ]
  },
  {
   "cell_type": "code",
   "execution_count": 57,
   "metadata": {
    "collapsed": false
   },
   "outputs": [
    {
     "data": {
      "text/plain": [
       "array([[<matplotlib.axes._subplots.AxesSubplot object at 0x111a82358>]], dtype=object)"
      ]
     },
     "execution_count": 57,
     "metadata": {},
     "output_type": "execute_result"
    },
    {
     "data": {
      "image/png": "[encoded data removed]",
      "text/plain": [
       "<matplotlib.figure.Figure at 0x111a82d30>"
      ]
     },
     "metadata": {},
     "output_type": "display_data"
    }
   ],
   "source": [
    "y_df.hist('diff')"
   ]
  },
  {
   "cell_type": "code",
   "execution_count": 58,
   "metadata": {
    "collapsed": false
   },
   "outputs": [
    {
     "data": {
      "text/plain": [
       "count    6776.000000\n",
       "mean        1.994274\n",
       "std         1.658961\n",
       "min         0.002311\n",
       "25%         0.770796\n",
       "50%         1.593402\n",
       "75%         2.780584\n",
       "max        15.373813\n",
       "Name: diff, dtype: float64"
      ]
     },
     "execution_count": 58,
     "metadata": {},
     "output_type": "execute_result"
    }
   ],
   "source": [
    "y_df['diff'].describe()"
   ]
  },
  {
   "cell_type": "markdown",
   "metadata": {},
   "source": [
    "### most of the cases the model misses by maximum 3 bikes, half of the cases it's only 1.6"
   ]
  },
  {
   "cell_type": "markdown",
   "metadata": {},
   "source": [
    "# Predicting"
   ]
  },
  {
   "cell_type": "code",
   "execution_count": 61,
   "metadata": {
    "collapsed": false
   },
   "outputs": [],
   "source": [
    "pwd = os.getcwd()\n",
    "os.chdir(pwd + '/201408_babs_open_data/')\n",
    "station_df = pd.read_csv('201408_station_data.csv')"
   ]
  },
  {
   "cell_type": "code",
   "execution_count": 62,
   "metadata": {
    "collapsed": false
   },
   "outputs": [],
   "source": [
    "os.chdir(pwd)\n",
    "with open('trips_by_stations.pickle', 'rb') as handle:\n",
    "    trips_by_stations = pickle.load(handle)"
   ]
  },
  {
   "cell_type": "markdown",
   "metadata": {
    "collapsed": true
   },
   "source": [
    "## Let's find some weather data for next Tuesday\n",
    "#### http://www.accuweather.com/en/us/san-francisco-ca/94103/daily-weather-forecast/347629?day=6\n",
    "#### http://forecast.weather.gov/MapClick.php?w0=t&w1=td&w2=wc&w3=sfcwind&w3u=1&w4=sky&w5=pop&w6=rh&w7=rain&w8=thunder&w9=snow&w10=fzg&w11=sleet&AheadHour=48&FcstType=graphical&textField1=37.775&textField2=-122.418&site=all&unit=0&dd=&bw=&AheadDay.x=78&AheadDay.y=12&AheadDay=96"
   ]
  },
  {
   "cell_type": "code",
   "execution_count": 63,
   "metadata": {
    "collapsed": false
   },
   "outputs": [],
   "source": [
    "prediction = pd.DataFrame(columns = ['day', 'station_id', 'is_holiday', 'dockcount', 'trips_all_year', 'Max_Temperature_F',\n",
    "       'Mean_Temperature_F', 'Min_TemperatureF', 'Max_Dew_Point_F',\n",
    "       'MeanDew_Point_F', 'Min_Dewpoint_F', 'Max_Humidity', 'Mean_Humidity ',\n",
    "       'Min_Humidity ', 'Max_Sea_Level_Pressure_In ',\n",
    "       'Mean_Sea_Level_Pressure_In ', 'Min_Sea_Level_Pressure_In ',\n",
    "       'Max_Visibility_Miles ', 'Mean_Visibility_Miles ',\n",
    "       'Min_Visibility_Miles ', 'Max_Wind_Speed_MPH ', 'Mean_Wind_Speed_MPH ',\n",
    "       'Max_Gust_Speed_MPH', 'Precipitation_In ', 'Cloud_Cover ', 'landmark'])\n",
    "\n",
    "prediction['station_id'] = station_df['station_id'].unique()\n",
    "prediction['day'] = prediction['day'].fillna('2016-03-08')\n",
    "prediction['is_holiday'] = prediction['is_holiday'].fillna(0)\n",
    "prediction['dockcount'] = station_df['dockcount']\n",
    "prediction['landmark'] = station_df['landmark']\n",
    "prediction['trips_all_year'] = trips_by_stations['trips_all_year']\n",
    "\n",
    "prediction['Max_Temperature_F'] = prediction['Max_Temperature_F'].fillna(59)\n",
    "prediction['Min_TemperatureF'] = prediction['Min_TemperatureF'].fillna(51)\n",
    "prediction['Mean_Temperature_F'] = prediction['Mean_Temperature_F'].fillna(55)\n",
    "\n",
    "prediction['Min_Dewpoint_F'] = prediction['Min_Dewpoint_F'].fillna(45)\n",
    "prediction['Max_Dew_Point_F'] = prediction['Max_Dew_Point_F'].fillna(56)\n",
    "prediction['MeanDew_Point_F'] = prediction['MeanDew_Point_F'].fillna(50)\n",
    "\n",
    "prediction['Min_Humidity '] = prediction['Min_Humidity '].fillna(53)\n",
    "prediction['Max_Humidity'] = prediction['Max_Humidity'].fillna(90)\n",
    "prediction['Mean_Humidity '] = prediction['Mean_Humidity '].fillna(71)\n",
    "\n",
    "prediction['Max_Wind_Speed_MPH '] = prediction['Max_Wind_Speed_MPH '].fillna(22)\n",
    "prediction['Mean_Wind_Speed_MPH '] = prediction['Mean_Wind_Speed_MPH '].fillna(11)\n",
    "prediction['Max_Gust_Speed_MPH'] = prediction['Max_Gust_Speed_MPH'].fillna(22)\n",
    "\n",
    "prediction['Cloud_Cover '] = prediction['Cloud_Cover '].fillna(6)\n",
    "prediction['Precipitation_In '] = prediction['Precipitation_In '].fillna(0.3)\n",
    "\n",
    "# as I didn't find foracast for sea level pressure and visibility, I'll use the averages from the original dataset\n",
    "prediction['Min_Sea_Level_Pressure_In '] = prediction['Min_Sea_Level_Pressure_In '].fillna(29)\n",
    "prediction['Max_Sea_Level_Pressure_In '] = prediction['Max_Sea_Level_Pressure_In '].fillna(31)\n",
    "prediction['Mean_Sea_Level_Pressure_In '] = prediction['Mean_Sea_Level_Pressure_In '].fillna(30)\n",
    "\n",
    "prediction['Min_Visibility_Miles '] = prediction['Min_Visibility_Miles '].fillna(10)\n",
    "prediction['Max_Visibility_Miles '] = prediction['Max_Visibility_Miles '].fillna(10)\n",
    "prediction['Mean_Visibility_Miles '] = prediction['Mean_Visibility_Miles '].fillna(10)"
   ]
  },
  {
   "cell_type": "code",
   "execution_count": 64,
   "metadata": {
    "collapsed": false
   },
   "outputs": [],
   "source": [
    "# generating np.array of predictors\n",
    "X = prediction[['is_holiday', 'dockcount', 'trips_all_year', 'Max_Temperature_F',\n",
    "       'Mean_Temperature_F', 'Min_TemperatureF', 'Max_Dew_Point_F',\n",
    "       'MeanDew_Point_F', 'Min_Dewpoint_F', 'Max_Humidity', 'Mean_Humidity ',\n",
    "       'Min_Humidity ', 'Max_Sea_Level_Pressure_In ',\n",
    "       'Mean_Sea_Level_Pressure_In ', 'Min_Sea_Level_Pressure_In ',\n",
    "       'Max_Visibility_Miles ', 'Mean_Visibility_Miles ',\n",
    "       'Min_Visibility_Miles ', 'Max_Wind_Speed_MPH ', 'Mean_Wind_Speed_MPH ',\n",
    "       'Max_Gust_Speed_MPH', 'Precipitation_In ', 'Cloud_Cover ']].fillna(.0).values"
   ]
  },
  {
   "cell_type": "raw",
   "metadata": {},
   "source": [
    "prepare the dataset the same way as for model selection"
   ]
  },
  {
   "cell_type": "code",
   "execution_count": 65,
   "metadata": {
    "collapsed": false
   },
   "outputs": [
    {
     "name": "stderr",
     "output_type": "stream",
     "text": [
      "/Users/somoseszter/anaconda/lib/python3.4/site-packages/sklearn/preprocessing/data.py:169: UserWarning: Numerical issues were encountered when scaling the data and might not be solved. The standard deviation of the data is probably very close to 0. \n",
      "  warnings.warn(\"Numerical issues were encountered \"\n"
     ]
    }
   ],
   "source": [
    "# standardization of the predictors\n",
    "X_scaled = preprocessing.scale(X)"
   ]
  },
  {
   "cell_type": "code",
   "execution_count": 66,
   "metadata": {
    "collapsed": true
   },
   "outputs": [],
   "source": [
    "# encodin city names to numerical variables\n",
    "landmark_label_encoded = label_encoder.fit_transform(prediction['landmark'])"
   ]
  },
  {
   "cell_type": "code",
   "execution_count": 67,
   "metadata": {
    "collapsed": true
   },
   "outputs": [],
   "source": [
    "# transforming categorical data to vectors\n",
    "prediction['landmark'] = landmark_label_encoded\n",
    "landmark_one_hot_encoded = encoder.fit_transform(prediction[['landmark']].as_matrix())\n",
    "station_id_one_hot_encoded = encoder.fit_transform(prediction[['station_id']].as_matrix())"
   ]
  },
  {
   "cell_type": "code",
   "execution_count": 68,
   "metadata": {
    "collapsed": true
   },
   "outputs": [],
   "source": [
    "# converting the sparcse matrices to arrays so they can be joined with the X array\n",
    "landmark_one_hot_encoded = landmark_one_hot_encoded.toarray()\n",
    "station_id_one_hot_encoded = station_id_one_hot_encoded.toarray()"
   ]
  },
  {
   "cell_type": "code",
   "execution_count": 69,
   "metadata": {
    "collapsed": true
   },
   "outputs": [],
   "source": [
    "# adding these dummies to the predictors\n",
    "X_matrix = np.hstack((X_scaled, landmark_one_hot_encoded, station_id_one_hot_encoded))"
   ]
  },
  {
   "cell_type": "markdown",
   "metadata": {},
   "source": [
    "Let's use the winning model: Ridge"
   ]
  },
  {
   "cell_type": "code",
   "execution_count": 70,
   "metadata": {
    "collapsed": true
   },
   "outputs": [],
   "source": [
    "# predicting\n",
    "y_pred = ridge.predict(X_matrix)"
   ]
  },
  {
   "cell_type": "code",
   "execution_count": 71,
   "metadata": {
    "collapsed": true
   },
   "outputs": [],
   "source": [
    "y_pred_df = pd.DataFrame(y_pred)\n",
    "y_pred_df.columns = ['predicted']\n",
    "y_pred_df['station_id'] = prediction['station_id']"
   ]
  },
  {
   "cell_type": "code",
   "execution_count": 73,
   "metadata": {
    "collapsed": false
   },
   "outputs": [],
   "source": [
    "# according to the predictions these stations will be almost empty sometime on Tuesday\n",
    "danger_stations = y_pred_df[y_pred_df.predicted<2]\n",
    "danger_stations = pd.merge(danger_stations, station_df[['station_id', 'landmark', 'name']], on='station_id', how='left')"
   ]
  },
  {
   "cell_type": "code",
   "execution_count": 74,
   "metadata": {
    "collapsed": false
   },
   "outputs": [
    {
     "data": {
      "text/html": [
       "<div>\n",
       "<table border=\"1\" class=\"dataframe\">\n",
       "  <thead>\n",
       "    <tr style=\"text-align: right;\">\n",
       "      <th></th>\n",
       "      <th>predicted</th>\n",
       "      <th>station_id</th>\n",
       "      <th>landmark</th>\n",
       "      <th>name</th>\n",
       "    </tr>\n",
       "  </thead>\n",
       "  <tbody>\n",
       "    <tr>\n",
       "      <th>0</th>\n",
       "      <td>1.677891</td>\n",
       "      <td>45</td>\n",
       "      <td>San Francisco</td>\n",
       "      <td>Commercial at Montgomery</td>\n",
       "    </tr>\n",
       "    <tr>\n",
       "      <th>1</th>\n",
       "      <td>1.708349</td>\n",
       "      <td>48</td>\n",
       "      <td>San Francisco</td>\n",
       "      <td>Embarcadero at Vallejo</td>\n",
       "    </tr>\n",
       "    <tr>\n",
       "      <th>2</th>\n",
       "      <td>1.748053</td>\n",
       "      <td>54</td>\n",
       "      <td>San Francisco</td>\n",
       "      <td>Embarcadero at Bryant</td>\n",
       "    </tr>\n",
       "    <tr>\n",
       "      <th>3</th>\n",
       "      <td>1.271469</td>\n",
       "      <td>60</td>\n",
       "      <td>San Francisco</td>\n",
       "      <td>Embarcadero at Sansome</td>\n",
       "    </tr>\n",
       "    <tr>\n",
       "      <th>4</th>\n",
       "      <td>1.901158</td>\n",
       "      <td>62</td>\n",
       "      <td>San Francisco</td>\n",
       "      <td>2nd at Folsom</td>\n",
       "    </tr>\n",
       "    <tr>\n",
       "      <th>5</th>\n",
       "      <td>1.728179</td>\n",
       "      <td>64</td>\n",
       "      <td>San Francisco</td>\n",
       "      <td>2nd at South Park</td>\n",
       "    </tr>\n",
       "    <tr>\n",
       "      <th>6</th>\n",
       "      <td>1.716504</td>\n",
       "      <td>73</td>\n",
       "      <td>San Francisco</td>\n",
       "      <td>Grant Avenue at Columbus Avenue</td>\n",
       "    </tr>\n",
       "  </tbody>\n",
       "</table>\n",
       "</div>"
      ],
      "text/plain": [
       "   predicted  station_id       landmark                             name\n",
       "0   1.677891          45  San Francisco         Commercial at Montgomery\n",
       "1   1.708349          48  San Francisco           Embarcadero at Vallejo\n",
       "2   1.748053          54  San Francisco            Embarcadero at Bryant\n",
       "3   1.271469          60  San Francisco           Embarcadero at Sansome\n",
       "4   1.901158          62  San Francisco                    2nd at Folsom\n",
       "5   1.728179          64  San Francisco                2nd at South Park\n",
       "6   1.716504          73  San Francisco  Grant Avenue at Columbus Avenue"
      ]
     },
     "execution_count": 74,
     "metadata": {},
     "output_type": "execute_result"
    }
   ],
   "source": [
    "danger_stations"
   ]
  },
  {
   "cell_type": "code",
   "execution_count": 75,
   "metadata": {
    "collapsed": false
   },
   "outputs": [
    {
     "data": {
      "text/plain": [
       "array([[<matplotlib.axes._subplots.AxesSubplot object at 0x107a42198>]], dtype=object)"
      ]
     },
     "execution_count": 75,
     "metadata": {},
     "output_type": "execute_result"
    },
    {
     "data": {
      "image/png": "[encoded data removed]",
      "text/plain": [
       "<matplotlib.figure.Figure at 0x1079ea390>"
      ]
     },
     "metadata": {},
     "output_type": "display_data"
    }
   ],
   "source": [
    "y_pred_df.hist('predicted')"
   ]
  }
 ],
 "metadata": {
  "kernelspec": {
   "display_name": "Python 3",
   "language": "python",
   "name": "python3"
  },
  "language_info": {
   "codemirror_mode": {
    "name": "ipython",
    "version": 3
   },
   "file_extension": ".py",
   "mimetype": "text/x-python",
   "name": "python",
   "nbconvert_exporter": "python",
   "pygments_lexer": "ipython3",
   "version": "3.4.3"
  }
 },
 "nbformat": 4,
 "nbformat_minor": 0
}
