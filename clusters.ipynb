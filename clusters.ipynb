{
 "cells": [
  {
   "cell_type": "code",
   "execution_count": 60,
   "metadata": {
    "collapsed": true
   },
   "outputs": [],
   "source": [
    "import os\n",
    "import pandas as pd\n",
    "import numpy as np\n",
    "%matplotlib inline\n",
    "import matplotlib\n",
    "import matplotlib.pyplot as plt\n",
    "matplotlib.style.use('ggplot')\n",
    "matplotlib.pyplot.rcParams['figure.figsize'] = (15, 3)\n",
    "matplotlib.pyplot.rcParams['font.family'] = 'sans-serif'\n",
    "#import seaborn\n",
    "import pickle\n",
    "from sklearn.preprocessing import scale\n",
    "from sklearn.cluster import KMeans\n",
    "from sklearn import metrics\n",
    "from sklearn.decomposition import PCA"
   ]
  },
  {
   "cell_type": "code",
   "execution_count": 3,
   "metadata": {
    "collapsed": true
   },
   "outputs": [],
   "source": [
    "with open('station_df.pickle', 'rb') as handle:\n",
    "    station_df = pickle.load(handle)"
   ]
  },
  {
   "cell_type": "markdown",
   "metadata": {},
   "source": [
    "# K-mean clustering for separating the stations in different cities"
   ]
  },
  {
   "cell_type": "code",
   "execution_count": 5,
   "metadata": {
    "collapsed": true
   },
   "outputs": [],
   "source": [
    "# preparing the data\n",
    "data = station_df[['Duration', 'customer_ratio', 'trips_all_year', 'dockcount']]"
   ]
  },
  {
   "cell_type": "code",
   "execution_count": 7,
   "metadata": {
    "collapsed": false
   },
   "outputs": [],
   "source": [
    "# scaling the data\n",
    "data = scale(data)"
   ]
  },
  {
   "cell_type": "code",
   "execution_count": 12,
   "metadata": {
    "collapsed": false
   },
   "outputs": [
    {
     "data": {
      "text/plain": [
       "5"
      ]
     },
     "execution_count": 12,
     "metadata": {},
     "output_type": "execute_result"
    }
   ],
   "source": [
    "labels = station_df['landmark']\n",
    "len(np.unique(labels))"
   ]
  },
  {
   "cell_type": "markdown",
   "metadata": {},
   "source": [
    "trying three methods of k-mean clustering to see which gives the best result"
   ]
  },
  {
   "cell_type": "code",
   "execution_count": 25,
   "metadata": {
    "collapsed": false
   },
   "outputs": [],
   "source": [
    "# one method is to reduce dimensionality of the data by a principant component analyis\n",
    "pca = PCA().fit(data)"
   ]
  },
  {
   "cell_type": "code",
   "execution_count": 26,
   "metadata": {
    "collapsed": false
   },
   "outputs": [
    {
     "name": "stdout",
     "output_type": "stream",
     "text": [
      "[ 0.53200929  0.24044371  0.15580942  0.07173758]\n"
     ]
    }
   ],
   "source": [
    "# looks like the 4th variable hardly explains anything \n",
    "print(pca.explained_variance_ratio_) "
   ]
  },
  {
   "cell_type": "code",
   "execution_count": 28,
   "metadata": {
    "collapsed": false
   },
   "outputs": [
    {
     "name": "stdout",
     "output_type": "stream",
     "text": [
      "[ 0.53200929  0.24044371  0.15580942]\n"
     ]
    }
   ],
   "source": [
    "pca = PCA(n_components=3).fit(data)\n",
    "print(pca.explained_variance_ratio_) "
   ]
  },
  {
   "cell_type": "code",
   "execution_count": 30,
   "metadata": {
    "collapsed": false
   },
   "outputs": [],
   "source": [
    "# building and comparing the models\n",
    "estimator = KMeans(init='k-means++', n_clusters=5, n_init=10)\n",
    "estimator_rand = KMeans(init='random', n_clusters=5, n_init=10)\n",
    "estimator_pca = KMeans(init=pca.components_, n_clusters=5, n_init=1)"
   ]
  },
  {
   "cell_type": "code",
   "execution_count": 31,
   "metadata": {
    "collapsed": false
   },
   "outputs": [
    {
     "data": {
      "text/plain": [
       "KMeans(copy_x=True,\n",
       "    init=array([[ 0.56019,  0.51648, -0.47657, -0.43854],\n",
       "       [-0.39388, -0.51876, -0.49998, -0.57076],\n",
       "       [ 0.30169, -0.34633, -0.61262,  0.64323]]),\n",
       "    max_iter=300, n_clusters=3, n_init=1, n_jobs=1,\n",
       "    precompute_distances='auto', random_state=None, tol=0.0001, verbose=0)"
      ]
     },
     "execution_count": 31,
     "metadata": {},
     "output_type": "execute_result"
    }
   ],
   "source": [
    "estimator.fit(data)\n",
    "estimator_rand.fit(data)\n",
    "estimator_pca.fit(data)"
   ]
  },
  {
   "cell_type": "code",
   "execution_count": 32,
   "metadata": {
    "collapsed": false
   },
   "outputs": [
    {
     "name": "stdout",
     "output_type": "stream",
     "text": [
      "k-means++  0.19886371747\n",
      "random  0.372067651328\n",
      "pca  0.270514127571\n"
     ]
    }
   ],
   "source": [
    "# the random model proved to be the best\n",
    "print ('k-means++ ', metrics.completeness_score(labels, estimator.labels_))\n",
    "print ('random ', metrics.completeness_score(labels, estimator_rand.labels_)) \n",
    "print ('pca ', metrics.completeness_score(labels, estimator_pca.labels_)) "
   ]
  },
  {
   "cell_type": "code",
   "execution_count": 33,
   "metadata": {
    "collapsed": false
   },
   "outputs": [
    {
     "name": "stdout",
     "output_type": "stream",
     "text": [
      "k-means++  0.1927629911\n",
      "random  0.392561041981\n",
      "pca  0.220800731517\n"
     ]
    }
   ],
   "source": [
    "print ('k-means++ ', metrics.v_measure_score(labels, estimator.labels_))\n",
    "print ('random ', metrics.v_measure_score(labels, estimator_rand.labels_)) \n",
    "print ('pca ', metrics.v_measure_score(labels, estimator_pca.labels_)) "
   ]
  },
  {
   "cell_type": "markdown",
   "metadata": {},
   "source": [
    "looking at the clusters and comparing them to the original labels"
   ]
  },
  {
   "cell_type": "code",
   "execution_count": 56,
   "metadata": {
    "collapsed": true
   },
   "outputs": [],
   "source": [
    "station_df['kmean_landmark'] = estimator_rand.labels_"
   ]
  },
  {
   "cell_type": "code",
   "execution_count": 69,
   "metadata": {
    "collapsed": false
   },
   "outputs": [
    {
     "name": "stdout",
     "output_type": "stream",
     "text": [
      " Duration    customer_ratio trips_all_year dockcount\n",
      "[[-0.12541328 -0.18815936 -0.76202121 -0.80433061]\n",
      " [-0.57089548 -0.38080819  1.90595074  1.59300515]\n",
      " [ 0.15257136 -0.11789852 -0.51301392  1.04884799]\n",
      " [ 2.70641792  2.17019804 -0.85622139 -0.83477297]\n",
      " [-0.48832308 -0.20092885  0.58228892 -0.11937754]]\n"
     ]
    }
   ],
   "source": [
    "print (' Duration   ', 'customer_ratio', 'trips_all_year', 'dockcount')\n",
    "print (estimator_rand.cluster_centers_)"
   ]
  },
  {
   "cell_type": "code",
   "execution_count": 70,
   "metadata": {
    "collapsed": false
   },
   "outputs": [
    {
     "data": {
      "text/html": [
       "<div>\n",
       "<table border=\"1\" class=\"dataframe\">\n",
       "  <thead>\n",
       "    <tr style=\"text-align: right;\">\n",
       "      <th></th>\n",
       "      <th></th>\n",
       "      <th>station_id</th>\n",
       "      <th>name</th>\n",
       "      <th>lat</th>\n",
       "      <th>long</th>\n",
       "      <th>dockcount</th>\n",
       "      <th>installation</th>\n",
       "      <th>Start Station</th>\n",
       "      <th>End Station</th>\n",
       "      <th>trips_all_year</th>\n",
       "      <th>customer_ratio</th>\n",
       "      <th>Duration</th>\n",
       "    </tr>\n",
       "    <tr>\n",
       "      <th>kmean_landmark</th>\n",
       "      <th>landmark</th>\n",
       "      <th></th>\n",
       "      <th></th>\n",
       "      <th></th>\n",
       "      <th></th>\n",
       "      <th></th>\n",
       "      <th></th>\n",
       "      <th></th>\n",
       "      <th></th>\n",
       "      <th></th>\n",
       "      <th></th>\n",
       "      <th></th>\n",
       "    </tr>\n",
       "  </thead>\n",
       "  <tbody>\n",
       "    <tr>\n",
       "      <th rowspan=\"5\" valign=\"top\">0</th>\n",
       "      <th>Mountain View</th>\n",
       "      <td>4</td>\n",
       "      <td>4</td>\n",
       "      <td>4</td>\n",
       "      <td>4</td>\n",
       "      <td>4</td>\n",
       "      <td>4</td>\n",
       "      <td>4</td>\n",
       "      <td>4</td>\n",
       "      <td>4</td>\n",
       "      <td>4</td>\n",
       "      <td>4</td>\n",
       "    </tr>\n",
       "    <tr>\n",
       "      <th>Palo Alto</th>\n",
       "      <td>1</td>\n",
       "      <td>1</td>\n",
       "      <td>1</td>\n",
       "      <td>1</td>\n",
       "      <td>1</td>\n",
       "      <td>1</td>\n",
       "      <td>1</td>\n",
       "      <td>1</td>\n",
       "      <td>1</td>\n",
       "      <td>1</td>\n",
       "      <td>1</td>\n",
       "    </tr>\n",
       "    <tr>\n",
       "      <th>Redwood City</th>\n",
       "      <td>5</td>\n",
       "      <td>5</td>\n",
       "      <td>5</td>\n",
       "      <td>5</td>\n",
       "      <td>5</td>\n",
       "      <td>5</td>\n",
       "      <td>5</td>\n",
       "      <td>5</td>\n",
       "      <td>5</td>\n",
       "      <td>5</td>\n",
       "      <td>5</td>\n",
       "    </tr>\n",
       "    <tr>\n",
       "      <th>San Francisco</th>\n",
       "      <td>2</td>\n",
       "      <td>2</td>\n",
       "      <td>2</td>\n",
       "      <td>2</td>\n",
       "      <td>2</td>\n",
       "      <td>2</td>\n",
       "      <td>2</td>\n",
       "      <td>2</td>\n",
       "      <td>2</td>\n",
       "      <td>2</td>\n",
       "      <td>2</td>\n",
       "    </tr>\n",
       "    <tr>\n",
       "      <th>San Jose</th>\n",
       "      <td>10</td>\n",
       "      <td>10</td>\n",
       "      <td>10</td>\n",
       "      <td>10</td>\n",
       "      <td>10</td>\n",
       "      <td>10</td>\n",
       "      <td>10</td>\n",
       "      <td>10</td>\n",
       "      <td>10</td>\n",
       "      <td>10</td>\n",
       "      <td>10</td>\n",
       "    </tr>\n",
       "    <tr>\n",
       "      <th>1</th>\n",
       "      <th>San Francisco</th>\n",
       "      <td>8</td>\n",
       "      <td>8</td>\n",
       "      <td>8</td>\n",
       "      <td>8</td>\n",
       "      <td>8</td>\n",
       "      <td>8</td>\n",
       "      <td>8</td>\n",
       "      <td>8</td>\n",
       "      <td>8</td>\n",
       "      <td>8</td>\n",
       "      <td>8</td>\n",
       "    </tr>\n",
       "    <tr>\n",
       "      <th rowspan=\"5\" valign=\"top\">2</th>\n",
       "      <th>Mountain View</th>\n",
       "      <td>2</td>\n",
       "      <td>2</td>\n",
       "      <td>2</td>\n",
       "      <td>2</td>\n",
       "      <td>2</td>\n",
       "      <td>2</td>\n",
       "      <td>2</td>\n",
       "      <td>2</td>\n",
       "      <td>2</td>\n",
       "      <td>2</td>\n",
       "      <td>2</td>\n",
       "    </tr>\n",
       "    <tr>\n",
       "      <th>Palo Alto</th>\n",
       "      <td>1</td>\n",
       "      <td>1</td>\n",
       "      <td>1</td>\n",
       "      <td>1</td>\n",
       "      <td>1</td>\n",
       "      <td>1</td>\n",
       "      <td>1</td>\n",
       "      <td>1</td>\n",
       "      <td>1</td>\n",
       "      <td>1</td>\n",
       "      <td>1</td>\n",
       "    </tr>\n",
       "    <tr>\n",
       "      <th>Redwood City</th>\n",
       "      <td>1</td>\n",
       "      <td>1</td>\n",
       "      <td>1</td>\n",
       "      <td>1</td>\n",
       "      <td>1</td>\n",
       "      <td>1</td>\n",
       "      <td>1</td>\n",
       "      <td>1</td>\n",
       "      <td>1</td>\n",
       "      <td>1</td>\n",
       "      <td>1</td>\n",
       "    </tr>\n",
       "    <tr>\n",
       "      <th>San Francisco</th>\n",
       "      <td>3</td>\n",
       "      <td>3</td>\n",
       "      <td>3</td>\n",
       "      <td>3</td>\n",
       "      <td>3</td>\n",
       "      <td>3</td>\n",
       "      <td>3</td>\n",
       "      <td>3</td>\n",
       "      <td>3</td>\n",
       "      <td>3</td>\n",
       "      <td>3</td>\n",
       "    </tr>\n",
       "    <tr>\n",
       "      <th>San Jose</th>\n",
       "      <td>5</td>\n",
       "      <td>5</td>\n",
       "      <td>5</td>\n",
       "      <td>5</td>\n",
       "      <td>5</td>\n",
       "      <td>5</td>\n",
       "      <td>5</td>\n",
       "      <td>5</td>\n",
       "      <td>5</td>\n",
       "      <td>5</td>\n",
       "      <td>5</td>\n",
       "    </tr>\n",
       "    <tr>\n",
       "      <th rowspan=\"4\" valign=\"top\">3</th>\n",
       "      <th>Mountain View</th>\n",
       "      <td>1</td>\n",
       "      <td>1</td>\n",
       "      <td>1</td>\n",
       "      <td>1</td>\n",
       "      <td>1</td>\n",
       "      <td>1</td>\n",
       "      <td>1</td>\n",
       "      <td>1</td>\n",
       "      <td>1</td>\n",
       "      <td>1</td>\n",
       "      <td>1</td>\n",
       "    </tr>\n",
       "    <tr>\n",
       "      <th>Palo Alto</th>\n",
       "      <td>3</td>\n",
       "      <td>3</td>\n",
       "      <td>3</td>\n",
       "      <td>3</td>\n",
       "      <td>3</td>\n",
       "      <td>3</td>\n",
       "      <td>3</td>\n",
       "      <td>3</td>\n",
       "      <td>3</td>\n",
       "      <td>3</td>\n",
       "      <td>3</td>\n",
       "    </tr>\n",
       "    <tr>\n",
       "      <th>Redwood City</th>\n",
       "      <td>1</td>\n",
       "      <td>1</td>\n",
       "      <td>1</td>\n",
       "      <td>1</td>\n",
       "      <td>1</td>\n",
       "      <td>1</td>\n",
       "      <td>1</td>\n",
       "      <td>1</td>\n",
       "      <td>1</td>\n",
       "      <td>1</td>\n",
       "      <td>1</td>\n",
       "    </tr>\n",
       "    <tr>\n",
       "      <th>San Jose</th>\n",
       "      <td>1</td>\n",
       "      <td>1</td>\n",
       "      <td>1</td>\n",
       "      <td>1</td>\n",
       "      <td>1</td>\n",
       "      <td>1</td>\n",
       "      <td>1</td>\n",
       "      <td>1</td>\n",
       "      <td>1</td>\n",
       "      <td>1</td>\n",
       "      <td>1</td>\n",
       "    </tr>\n",
       "    <tr>\n",
       "      <th>4</th>\n",
       "      <th>San Francisco</th>\n",
       "      <td>22</td>\n",
       "      <td>22</td>\n",
       "      <td>22</td>\n",
       "      <td>22</td>\n",
       "      <td>22</td>\n",
       "      <td>22</td>\n",
       "      <td>22</td>\n",
       "      <td>22</td>\n",
       "      <td>22</td>\n",
       "      <td>22</td>\n",
       "      <td>22</td>\n",
       "    </tr>\n",
       "  </tbody>\n",
       "</table>\n",
       "</div>"
      ],
      "text/plain": [
       "                              station_id  name  lat  long  dockcount  \\\n",
       "kmean_landmark landmark                                                \n",
       "0              Mountain View           4     4    4     4          4   \n",
       "               Palo Alto               1     1    1     1          1   \n",
       "               Redwood City            5     5    5     5          5   \n",
       "               San Francisco           2     2    2     2          2   \n",
       "               San Jose               10    10   10    10         10   \n",
       "1              San Francisco           8     8    8     8          8   \n",
       "2              Mountain View           2     2    2     2          2   \n",
       "               Palo Alto               1     1    1     1          1   \n",
       "               Redwood City            1     1    1     1          1   \n",
       "               San Francisco           3     3    3     3          3   \n",
       "               San Jose                5     5    5     5          5   \n",
       "3              Mountain View           1     1    1     1          1   \n",
       "               Palo Alto               3     3    3     3          3   \n",
       "               Redwood City            1     1    1     1          1   \n",
       "               San Jose                1     1    1     1          1   \n",
       "4              San Francisco          22    22   22    22         22   \n",
       "\n",
       "                              installation  Start Station  End Station  \\\n",
       "kmean_landmark landmark                                                  \n",
       "0              Mountain View             4              4            4   \n",
       "               Palo Alto                 1              1            1   \n",
       "               Redwood City              5              5            5   \n",
       "               San Francisco             2              2            2   \n",
       "               San Jose                 10             10           10   \n",
       "1              San Francisco             8              8            8   \n",
       "2              Mountain View             2              2            2   \n",
       "               Palo Alto                 1              1            1   \n",
       "               Redwood City              1              1            1   \n",
       "               San Francisco             3              3            3   \n",
       "               San Jose                  5              5            5   \n",
       "3              Mountain View             1              1            1   \n",
       "               Palo Alto                 3              3            3   \n",
       "               Redwood City              1              1            1   \n",
       "               San Jose                  1              1            1   \n",
       "4              San Francisco            22             22           22   \n",
       "\n",
       "                              trips_all_year  customer_ratio  Duration  \n",
       "kmean_landmark landmark                                                 \n",
       "0              Mountain View               4               4         4  \n",
       "               Palo Alto                   1               1         1  \n",
       "               Redwood City                5               5         5  \n",
       "               San Francisco               2               2         2  \n",
       "               San Jose                   10              10        10  \n",
       "1              San Francisco               8               8         8  \n",
       "2              Mountain View               2               2         2  \n",
       "               Palo Alto                   1               1         1  \n",
       "               Redwood City                1               1         1  \n",
       "               San Francisco               3               3         3  \n",
       "               San Jose                    5               5         5  \n",
       "3              Mountain View               1               1         1  \n",
       "               Palo Alto                   3               3         3  \n",
       "               Redwood City                1               1         1  \n",
       "               San Jose                    1               1         1  \n",
       "4              San Francisco              22              22        22  "
      ]
     },
     "execution_count": 70,
     "metadata": {},
     "output_type": "execute_result"
    }
   ],
   "source": [
    "station_df.groupby(['kmean_landmark', 'landmark']).count()"
   ]
  },
  {
   "cell_type": "code",
   "execution_count": 63,
   "metadata": {
    "collapsed": false
   },
   "outputs": [
    {
     "data": {
      "text/plain": [
       "([], <a list of 0 Text yticklabel objects>)"
      ]
     },
     "execution_count": 63,
     "metadata": {},
     "output_type": "execute_result"
    },
    {
     "data": {
      "image/png": "[encoded data removed]",
      "text/plain": [
       "<matplotlib.figure.Figure at 0x10e534198>"
      ]
     },
     "metadata": {},
     "output_type": "display_data"
    }
   ],
   "source": [
    "# Visualize the results on PCA-reduced data\n",
    "\n",
    "reduced_data = PCA(n_components=2).fit_transform(data)\n",
    "kmeans = KMeans(init='k-means++', n_clusters=n_digits, n_init=10)\n",
    "kmeans.fit(reduced_data)\n",
    "\n",
    "# Step size of the mesh. Decrease to increase the quality of the VQ.\n",
    "h = .02     # point in the mesh [x_min, m_max]x[y_min, y_max].\n",
    "\n",
    "# Plot the decision boundary. For that, we will assign a color to each\n",
    "x_min, x_max = reduced_data[:, 0].min() - 1, reduced_data[:, 0].max() + 1\n",
    "y_min, y_max = reduced_data[:, 1].min() - 1, reduced_data[:, 1].max() + 1\n",
    "xx, yy = np.meshgrid(np.arange(x_min, x_max, h), np.arange(y_min, y_max, h))\n",
    "\n",
    "# Obtain labels for each point in mesh. Use last trained model.\n",
    "Z = kmeans.predict(np.c_[xx.ravel(), yy.ravel()])\n",
    "\n",
    "# Put the result into a color plot\n",
    "Z = Z.reshape(xx.shape)\n",
    "plt.figure(1)\n",
    "plt.clf()\n",
    "plt.imshow(Z, interpolation='nearest',\n",
    "           extent=(xx.min(), xx.max(), yy.min(), yy.max()),\n",
    "           cmap=plt.cm.Paired,\n",
    "           aspect='auto', origin='lower')\n",
    "\n",
    "plt.plot(reduced_data[:, 0], reduced_data[:, 1], 'k.', markersize=2)\n",
    "# Plot the centroids as a white X\n",
    "centroids = kmeans.cluster_centers_\n",
    "plt.scatter(centroids[:, 0], centroids[:, 1],\n",
    "            marker='x', s=169, linewidths=3,\n",
    "            color='w', zorder=10)\n",
    "plt.title('K-means clustering on the PCA-reduced data\\n')\n",
    "plt.xlim(x_min, x_max)\n",
    "plt.ylim(y_min, y_max)\n",
    "plt.xticks(())\n",
    "plt.yticks(())"
   ]
  },
  {
   "cell_type": "markdown",
   "metadata": {},
   "source": [
    "# let's see if using only two clusters would separate San Francisco from the smaller cities"
   ]
  },
  {
   "cell_type": "code",
   "execution_count": 72,
   "metadata": {
    "collapsed": false
   },
   "outputs": [
    {
     "data": {
      "text/plain": [
       "([], <a list of 0 Text yticklabel objects>)"
      ]
     },
     "execution_count": 72,
     "metadata": {},
     "output_type": "execute_result"
    },
    {
     "data": {
      "image/png": "[encoded data removed]",
      "text/plain": [
       "<matplotlib.figure.Figure at 0x111d6deb8>"
      ]
     },
     "metadata": {},
     "output_type": "display_data"
    }
   ],
   "source": [
    "# Visualize the results on PCA-reduced data\n",
    "reduced_data = PCA(n_components=2).fit_transform(data)\n",
    "kmeans = KMeans(init='k-means++', n_clusters=2, n_init=10)\n",
    "kmeans.fit(reduced_data)\n",
    "\n",
    "# Step size of the mesh. Decrease to increase the quality of the VQ.\n",
    "h = .02     # point in the mesh [x_min, m_max]x[y_min, y_max].\n",
    "\n",
    "# Plot the decision boundary. For that, we will assign a color to each\n",
    "x_min, x_max = reduced_data[:, 0].min() - 1, reduced_data[:, 0].max() + 1\n",
    "y_min, y_max = reduced_data[:, 1].min() - 1, reduced_data[:, 1].max() + 1\n",
    "xx, yy = np.meshgrid(np.arange(x_min, x_max, h), np.arange(y_min, y_max, h))\n",
    "\n",
    "# Obtain labels for each point in mesh. Use last trained model.\n",
    "Z = kmeans.predict(np.c_[xx.ravel(), yy.ravel()])\n",
    "\n",
    "# Put the result into a color plot\n",
    "Z = Z.reshape(xx.shape)\n",
    "plt.figure(1)\n",
    "plt.clf()\n",
    "plt.imshow(Z, interpolation='nearest',\n",
    "           extent=(xx.min(), xx.max(), yy.min(), yy.max()),\n",
    "           cmap=plt.cm.Paired,\n",
    "           aspect='auto', origin='lower')\n",
    "\n",
    "plt.plot(reduced_data[:, 0], reduced_data[:, 1], 'k.', markersize=2)\n",
    "# Plot the centroids as a white X\n",
    "centroids = kmeans.cluster_centers_\n",
    "plt.scatter(centroids[:, 0], centroids[:, 1],\n",
    "            marker='x', s=169, linewidths=3,\n",
    "            color='w', zorder=10)\n",
    "plt.title('K-means clustering on the PCA-reduced data\\n')\n",
    "plt.xlim(x_min, x_max)\n",
    "plt.ylim(y_min, y_max)\n",
    "plt.xticks(())\n",
    "plt.yticks(())"
   ]
  },
  {
   "cell_type": "code",
   "execution_count": 75,
   "metadata": {
    "collapsed": false
   },
   "outputs": [
    {
     "name": "stdout",
     "output_type": "stream",
     "text": [
      "k-means++  0.372552801756\n",
      "random  0.372552801756\n",
      "pca  0.270514127571\n"
     ]
    }
   ],
   "source": [
    "estimator_two = KMeans(init='k-means++', n_clusters=2, n_init=10)\n",
    "estimator_rand_two = KMeans(init='random', n_clusters=2, n_init=10)\n",
    "estimator_pca_two = KMeans(init=pca.components_, n_clusters=2, n_init=1)\n",
    "\n",
    "estimator_two.fit(data)\n",
    "estimator_rand_two.fit(data)\n",
    "estimator_pca_two.fit(data)\n",
    "\n",
    "print ('k-means++ ', metrics.completeness_score(labels, estimator_two.labels_))\n",
    "print ('random ', metrics.completeness_score(labels, estimator_rand_two.labels_)) \n",
    "print ('pca ', metrics.completeness_score(labels, estimator_pca_two.labels_)) "
   ]
  },
  {
   "cell_type": "code",
   "execution_count": 77,
   "metadata": {
    "collapsed": false
   },
   "outputs": [
    {
     "name": "stdout",
     "output_type": "stream",
     "text": [
      " Duration    customer_ratio trips_all_year dockcount\n",
      "[[ 2.70641792  2.17019804 -0.85622139 -0.83477297]\n",
      " [-0.25372668 -0.20345607  0.08027076  0.07825997]]\n"
     ]
    }
   ],
   "source": [
    "print (' Duration   ', 'customer_ratio', 'trips_all_year', 'dockcount')\n",
    "print (estimator_rand_two.cluster_centers_)"
   ]
  },
  {
   "cell_type": "code",
   "execution_count": 76,
   "metadata": {
    "collapsed": false
   },
   "outputs": [
    {
     "data": {
      "text/html": [
       "<div>\n",
       "<table border=\"1\" class=\"dataframe\">\n",
       "  <thead>\n",
       "    <tr style=\"text-align: right;\">\n",
       "      <th></th>\n",
       "      <th></th>\n",
       "      <th>station_id</th>\n",
       "      <th>name</th>\n",
       "      <th>lat</th>\n",
       "      <th>long</th>\n",
       "      <th>dockcount</th>\n",
       "      <th>installation</th>\n",
       "      <th>Start Station</th>\n",
       "      <th>End Station</th>\n",
       "      <th>trips_all_year</th>\n",
       "      <th>customer_ratio</th>\n",
       "      <th>Duration</th>\n",
       "      <th>kmean_landmark</th>\n",
       "    </tr>\n",
       "    <tr>\n",
       "      <th>two_cluster_landmark</th>\n",
       "      <th>landmark</th>\n",
       "      <th></th>\n",
       "      <th></th>\n",
       "      <th></th>\n",
       "      <th></th>\n",
       "      <th></th>\n",
       "      <th></th>\n",
       "      <th></th>\n",
       "      <th></th>\n",
       "      <th></th>\n",
       "      <th></th>\n",
       "      <th></th>\n",
       "      <th></th>\n",
       "    </tr>\n",
       "  </thead>\n",
       "  <tbody>\n",
       "    <tr>\n",
       "      <th rowspan=\"4\" valign=\"top\">0</th>\n",
       "      <th>Mountain View</th>\n",
       "      <td>1</td>\n",
       "      <td>1</td>\n",
       "      <td>1</td>\n",
       "      <td>1</td>\n",
       "      <td>1</td>\n",
       "      <td>1</td>\n",
       "      <td>1</td>\n",
       "      <td>1</td>\n",
       "      <td>1</td>\n",
       "      <td>1</td>\n",
       "      <td>1</td>\n",
       "      <td>1</td>\n",
       "    </tr>\n",
       "    <tr>\n",
       "      <th>Palo Alto</th>\n",
       "      <td>3</td>\n",
       "      <td>3</td>\n",
       "      <td>3</td>\n",
       "      <td>3</td>\n",
       "      <td>3</td>\n",
       "      <td>3</td>\n",
       "      <td>3</td>\n",
       "      <td>3</td>\n",
       "      <td>3</td>\n",
       "      <td>3</td>\n",
       "      <td>3</td>\n",
       "      <td>3</td>\n",
       "    </tr>\n",
       "    <tr>\n",
       "      <th>Redwood City</th>\n",
       "      <td>1</td>\n",
       "      <td>1</td>\n",
       "      <td>1</td>\n",
       "      <td>1</td>\n",
       "      <td>1</td>\n",
       "      <td>1</td>\n",
       "      <td>1</td>\n",
       "      <td>1</td>\n",
       "      <td>1</td>\n",
       "      <td>1</td>\n",
       "      <td>1</td>\n",
       "      <td>1</td>\n",
       "    </tr>\n",
       "    <tr>\n",
       "      <th>San Jose</th>\n",
       "      <td>1</td>\n",
       "      <td>1</td>\n",
       "      <td>1</td>\n",
       "      <td>1</td>\n",
       "      <td>1</td>\n",
       "      <td>1</td>\n",
       "      <td>1</td>\n",
       "      <td>1</td>\n",
       "      <td>1</td>\n",
       "      <td>1</td>\n",
       "      <td>1</td>\n",
       "      <td>1</td>\n",
       "    </tr>\n",
       "    <tr>\n",
       "      <th rowspan=\"5\" valign=\"top\">1</th>\n",
       "      <th>Mountain View</th>\n",
       "      <td>6</td>\n",
       "      <td>6</td>\n",
       "      <td>6</td>\n",
       "      <td>6</td>\n",
       "      <td>6</td>\n",
       "      <td>6</td>\n",
       "      <td>6</td>\n",
       "      <td>6</td>\n",
       "      <td>6</td>\n",
       "      <td>6</td>\n",
       "      <td>6</td>\n",
       "      <td>6</td>\n",
       "    </tr>\n",
       "    <tr>\n",
       "      <th>Palo Alto</th>\n",
       "      <td>2</td>\n",
       "      <td>2</td>\n",
       "      <td>2</td>\n",
       "      <td>2</td>\n",
       "      <td>2</td>\n",
       "      <td>2</td>\n",
       "      <td>2</td>\n",
       "      <td>2</td>\n",
       "      <td>2</td>\n",
       "      <td>2</td>\n",
       "      <td>2</td>\n",
       "      <td>2</td>\n",
       "    </tr>\n",
       "    <tr>\n",
       "      <th>Redwood City</th>\n",
       "      <td>6</td>\n",
       "      <td>6</td>\n",
       "      <td>6</td>\n",
       "      <td>6</td>\n",
       "      <td>6</td>\n",
       "      <td>6</td>\n",
       "      <td>6</td>\n",
       "      <td>6</td>\n",
       "      <td>6</td>\n",
       "      <td>6</td>\n",
       "      <td>6</td>\n",
       "      <td>6</td>\n",
       "    </tr>\n",
       "    <tr>\n",
       "      <th>San Francisco</th>\n",
       "      <td>35</td>\n",
       "      <td>35</td>\n",
       "      <td>35</td>\n",
       "      <td>35</td>\n",
       "      <td>35</td>\n",
       "      <td>35</td>\n",
       "      <td>35</td>\n",
       "      <td>35</td>\n",
       "      <td>35</td>\n",
       "      <td>35</td>\n",
       "      <td>35</td>\n",
       "      <td>35</td>\n",
       "    </tr>\n",
       "    <tr>\n",
       "      <th>San Jose</th>\n",
       "      <td>15</td>\n",
       "      <td>15</td>\n",
       "      <td>15</td>\n",
       "      <td>15</td>\n",
       "      <td>15</td>\n",
       "      <td>15</td>\n",
       "      <td>15</td>\n",
       "      <td>15</td>\n",
       "      <td>15</td>\n",
       "      <td>15</td>\n",
       "      <td>15</td>\n",
       "      <td>15</td>\n",
       "    </tr>\n",
       "  </tbody>\n",
       "</table>\n",
       "</div>"
      ],
      "text/plain": [
       "                                    station_id  name  lat  long  dockcount  \\\n",
       "two_cluster_landmark landmark                                                \n",
       "0                    Mountain View           1     1    1     1          1   \n",
       "                     Palo Alto               3     3    3     3          3   \n",
       "                     Redwood City            1     1    1     1          1   \n",
       "                     San Jose                1     1    1     1          1   \n",
       "1                    Mountain View           6     6    6     6          6   \n",
       "                     Palo Alto               2     2    2     2          2   \n",
       "                     Redwood City            6     6    6     6          6   \n",
       "                     San Francisco          35    35   35    35         35   \n",
       "                     San Jose               15    15   15    15         15   \n",
       "\n",
       "                                    installation  Start Station  End Station  \\\n",
       "two_cluster_landmark landmark                                                  \n",
       "0                    Mountain View             1              1            1   \n",
       "                     Palo Alto                 3              3            3   \n",
       "                     Redwood City              1              1            1   \n",
       "                     San Jose                  1              1            1   \n",
       "1                    Mountain View             6              6            6   \n",
       "                     Palo Alto                 2              2            2   \n",
       "                     Redwood City              6              6            6   \n",
       "                     San Francisco            35             35           35   \n",
       "                     San Jose                 15             15           15   \n",
       "\n",
       "                                    trips_all_year  customer_ratio  Duration  \\\n",
       "two_cluster_landmark landmark                                                  \n",
       "0                    Mountain View               1               1         1   \n",
       "                     Palo Alto                   3               3         3   \n",
       "                     Redwood City                1               1         1   \n",
       "                     San Jose                    1               1         1   \n",
       "1                    Mountain View               6               6         6   \n",
       "                     Palo Alto                   2               2         2   \n",
       "                     Redwood City                6               6         6   \n",
       "                     San Francisco              35              35        35   \n",
       "                     San Jose                   15              15        15   \n",
       "\n",
       "                                    kmean_landmark  \n",
       "two_cluster_landmark landmark                       \n",
       "0                    Mountain View               1  \n",
       "                     Palo Alto                   3  \n",
       "                     Redwood City                1  \n",
       "                     San Jose                    1  \n",
       "1                    Mountain View               6  \n",
       "                     Palo Alto                   2  \n",
       "                     Redwood City                6  \n",
       "                     San Francisco              35  \n",
       "                     San Jose                   15  "
      ]
     },
     "execution_count": 76,
     "metadata": {},
     "output_type": "execute_result"
    }
   ],
   "source": [
    "station_df['two_cluster_landmark'] = estimator_rand_two.labels_\n",
    "station_df.groupby(['two_cluster_landmark', 'landmark']).count()"
   ]
  },
  {
   "cell_type": "markdown",
   "metadata": {},
   "source": [
    "No, it didn't separate San Francisco but looks like that there are 6 stations wich are different from the others\n",
    "These are small stations (small dock count) not frequently used, \n",
    "but the ratio of the customers compared to the subscribers and the average bike rental duration is relly high"
   ]
  },
  {
   "cell_type": "markdown",
   "metadata": {},
   "source": [
    "### let's see if using 3 clusters gives more insides"
   ]
  },
  {
   "cell_type": "code",
   "execution_count": 78,
   "metadata": {
    "collapsed": false
   },
   "outputs": [
    {
     "data": {
      "text/plain": [
       "([], <a list of 0 Text yticklabel objects>)"
      ]
     },
     "execution_count": 78,
     "metadata": {},
     "output_type": "execute_result"
    },
    {
     "data": {
      "image/png": "[encoded data removed]",
      "text/plain": [
       "<matplotlib.figure.Figure at 0x10f4e15f8>"
      ]
     },
     "metadata": {},
     "output_type": "display_data"
    }
   ],
   "source": [
    "# Visualize the results on PCA-reduced data\n",
    "reduced_data = PCA(n_components=2).fit_transform(data)\n",
    "kmeans = KMeans(init='k-means++', n_clusters=3, n_init=10)\n",
    "kmeans.fit(reduced_data)\n",
    "\n",
    "# Step size of the mesh. Decrease to increase the quality of the VQ.\n",
    "h = .02     # point in the mesh [x_min, m_max]x[y_min, y_max].\n",
    "\n",
    "# Plot the decision boundary. For that, we will assign a color to each\n",
    "x_min, x_max = reduced_data[:, 0].min() - 1, reduced_data[:, 0].max() + 1\n",
    "y_min, y_max = reduced_data[:, 1].min() - 1, reduced_data[:, 1].max() + 1\n",
    "xx, yy = np.meshgrid(np.arange(x_min, x_max, h), np.arange(y_min, y_max, h))\n",
    "\n",
    "# Obtain labels for each point in mesh. Use last trained model.\n",
    "Z = kmeans.predict(np.c_[xx.ravel(), yy.ravel()])\n",
    "\n",
    "# Put the result into a color plot\n",
    "Z = Z.reshape(xx.shape)\n",
    "plt.figure(1)\n",
    "plt.clf()\n",
    "plt.imshow(Z, interpolation='nearest',\n",
    "           extent=(xx.min(), xx.max(), yy.min(), yy.max()),\n",
    "           cmap=plt.cm.Paired,\n",
    "           aspect='auto', origin='lower')\n",
    "\n",
    "plt.plot(reduced_data[:, 0], reduced_data[:, 1], 'k.', markersize=2)\n",
    "# Plot the centroids as a white X\n",
    "centroids = kmeans.cluster_centers_\n",
    "plt.scatter(centroids[:, 0], centroids[:, 1],\n",
    "            marker='x', s=169, linewidths=3,\n",
    "            color='w', zorder=10)\n",
    "plt.title('K-means clustering on the PCA-reduced data\\n')\n",
    "plt.xlim(x_min, x_max)\n",
    "plt.ylim(y_min, y_max)\n",
    "plt.xticks(())\n",
    "plt.yticks(())"
   ]
  },
  {
   "cell_type": "code",
   "execution_count": 79,
   "metadata": {
    "collapsed": false
   },
   "outputs": [
    {
     "name": "stdout",
     "output_type": "stream",
     "text": [
      "k-means++  0.333690742971\n",
      "random  0.333690742971\n",
      "pca  0.270514127571\n"
     ]
    }
   ],
   "source": [
    "estimator_three = KMeans(init='k-means++', n_clusters=3, n_init=10)\n",
    "estimator_rand_three = KMeans(init='random', n_clusters=3, n_init=10)\n",
    "estimator_pca_three = KMeans(init=pca.components_, n_clusters=3, n_init=1)\n",
    "\n",
    "estimator_three.fit(data)\n",
    "estimator_rand_three.fit(data)\n",
    "estimator_pca_three.fit(data)\n",
    "\n",
    "print ('k-means++ ', metrics.completeness_score(labels, estimator_three.labels_))\n",
    "print ('random ', metrics.completeness_score(labels, estimator_rand_three.labels_)) \n",
    "print ('pca ', metrics.completeness_score(labels, estimator_pca_three.labels_)) "
   ]
  },
  {
   "cell_type": "code",
   "execution_count": 86,
   "metadata": {
    "collapsed": false
   },
   "outputs": [
    {
     "name": "stdout",
     "output_type": "stream",
     "text": [
      " Duration    customer_ratio trips_all_year dockcount\n",
      "[[-0.45420839 -0.30019578  0.88487324  0.82161752]\n",
      " [-0.09779646 -0.12821406 -0.54553118 -0.49990702]\n",
      " [ 2.70641792  2.17019804 -0.85622139 -0.83477297]]\n"
     ]
    }
   ],
   "source": [
    "print (' Duration   ', 'customer_ratio', 'trips_all_year', 'dockcount')\n",
    "print (estimator_rand_three.cluster_centers_)"
   ]
  },
  {
   "cell_type": "code",
   "execution_count": 81,
   "metadata": {
    "collapsed": false
   },
   "outputs": [
    {
     "data": {
      "text/html": [
       "<div>\n",
       "<table border=\"1\" class=\"dataframe\">\n",
       "  <thead>\n",
       "    <tr style=\"text-align: right;\">\n",
       "      <th></th>\n",
       "      <th></th>\n",
       "      <th>station_id</th>\n",
       "      <th>name</th>\n",
       "      <th>lat</th>\n",
       "      <th>long</th>\n",
       "      <th>dockcount</th>\n",
       "      <th>installation</th>\n",
       "      <th>Start Station</th>\n",
       "      <th>End Station</th>\n",
       "      <th>trips_all_year</th>\n",
       "      <th>customer_ratio</th>\n",
       "      <th>Duration</th>\n",
       "      <th>kmean_landmark</th>\n",
       "      <th>two_cluster_landmark</th>\n",
       "    </tr>\n",
       "    <tr>\n",
       "      <th>three_cluster_landmark</th>\n",
       "      <th>landmark</th>\n",
       "      <th></th>\n",
       "      <th></th>\n",
       "      <th></th>\n",
       "      <th></th>\n",
       "      <th></th>\n",
       "      <th></th>\n",
       "      <th></th>\n",
       "      <th></th>\n",
       "      <th></th>\n",
       "      <th></th>\n",
       "      <th></th>\n",
       "      <th></th>\n",
       "      <th></th>\n",
       "    </tr>\n",
       "  </thead>\n",
       "  <tbody>\n",
       "    <tr>\n",
       "      <th rowspan=\"4\" valign=\"top\">0</th>\n",
       "      <th>Mountain View</th>\n",
       "      <td>1</td>\n",
       "      <td>1</td>\n",
       "      <td>1</td>\n",
       "      <td>1</td>\n",
       "      <td>1</td>\n",
       "      <td>1</td>\n",
       "      <td>1</td>\n",
       "      <td>1</td>\n",
       "      <td>1</td>\n",
       "      <td>1</td>\n",
       "      <td>1</td>\n",
       "      <td>1</td>\n",
       "      <td>1</td>\n",
       "    </tr>\n",
       "    <tr>\n",
       "      <th>Redwood City</th>\n",
       "      <td>1</td>\n",
       "      <td>1</td>\n",
       "      <td>1</td>\n",
       "      <td>1</td>\n",
       "      <td>1</td>\n",
       "      <td>1</td>\n",
       "      <td>1</td>\n",
       "      <td>1</td>\n",
       "      <td>1</td>\n",
       "      <td>1</td>\n",
       "      <td>1</td>\n",
       "      <td>1</td>\n",
       "      <td>1</td>\n",
       "    </tr>\n",
       "    <tr>\n",
       "      <th>San Francisco</th>\n",
       "      <td>25</td>\n",
       "      <td>25</td>\n",
       "      <td>25</td>\n",
       "      <td>25</td>\n",
       "      <td>25</td>\n",
       "      <td>25</td>\n",
       "      <td>25</td>\n",
       "      <td>25</td>\n",
       "      <td>25</td>\n",
       "      <td>25</td>\n",
       "      <td>25</td>\n",
       "      <td>25</td>\n",
       "      <td>25</td>\n",
       "    </tr>\n",
       "    <tr>\n",
       "      <th>San Jose</th>\n",
       "      <td>1</td>\n",
       "      <td>1</td>\n",
       "      <td>1</td>\n",
       "      <td>1</td>\n",
       "      <td>1</td>\n",
       "      <td>1</td>\n",
       "      <td>1</td>\n",
       "      <td>1</td>\n",
       "      <td>1</td>\n",
       "      <td>1</td>\n",
       "      <td>1</td>\n",
       "      <td>1</td>\n",
       "      <td>1</td>\n",
       "    </tr>\n",
       "    <tr>\n",
       "      <th rowspan=\"5\" valign=\"top\">1</th>\n",
       "      <th>Mountain View</th>\n",
       "      <td>5</td>\n",
       "      <td>5</td>\n",
       "      <td>5</td>\n",
       "      <td>5</td>\n",
       "      <td>5</td>\n",
       "      <td>5</td>\n",
       "      <td>5</td>\n",
       "      <td>5</td>\n",
       "      <td>5</td>\n",
       "      <td>5</td>\n",
       "      <td>5</td>\n",
       "      <td>5</td>\n",
       "      <td>5</td>\n",
       "    </tr>\n",
       "    <tr>\n",
       "      <th>Palo Alto</th>\n",
       "      <td>2</td>\n",
       "      <td>2</td>\n",
       "      <td>2</td>\n",
       "      <td>2</td>\n",
       "      <td>2</td>\n",
       "      <td>2</td>\n",
       "      <td>2</td>\n",
       "      <td>2</td>\n",
       "      <td>2</td>\n",
       "      <td>2</td>\n",
       "      <td>2</td>\n",
       "      <td>2</td>\n",
       "      <td>2</td>\n",
       "    </tr>\n",
       "    <tr>\n",
       "      <th>Redwood City</th>\n",
       "      <td>5</td>\n",
       "      <td>5</td>\n",
       "      <td>5</td>\n",
       "      <td>5</td>\n",
       "      <td>5</td>\n",
       "      <td>5</td>\n",
       "      <td>5</td>\n",
       "      <td>5</td>\n",
       "      <td>5</td>\n",
       "      <td>5</td>\n",
       "      <td>5</td>\n",
       "      <td>5</td>\n",
       "      <td>5</td>\n",
       "    </tr>\n",
       "    <tr>\n",
       "      <th>San Francisco</th>\n",
       "      <td>10</td>\n",
       "      <td>10</td>\n",
       "      <td>10</td>\n",
       "      <td>10</td>\n",
       "      <td>10</td>\n",
       "      <td>10</td>\n",
       "      <td>10</td>\n",
       "      <td>10</td>\n",
       "      <td>10</td>\n",
       "      <td>10</td>\n",
       "      <td>10</td>\n",
       "      <td>10</td>\n",
       "      <td>10</td>\n",
       "    </tr>\n",
       "    <tr>\n",
       "      <th>San Jose</th>\n",
       "      <td>14</td>\n",
       "      <td>14</td>\n",
       "      <td>14</td>\n",
       "      <td>14</td>\n",
       "      <td>14</td>\n",
       "      <td>14</td>\n",
       "      <td>14</td>\n",
       "      <td>14</td>\n",
       "      <td>14</td>\n",
       "      <td>14</td>\n",
       "      <td>14</td>\n",
       "      <td>14</td>\n",
       "      <td>14</td>\n",
       "    </tr>\n",
       "    <tr>\n",
       "      <th rowspan=\"4\" valign=\"top\">2</th>\n",
       "      <th>Mountain View</th>\n",
       "      <td>1</td>\n",
       "      <td>1</td>\n",
       "      <td>1</td>\n",
       "      <td>1</td>\n",
       "      <td>1</td>\n",
       "      <td>1</td>\n",
       "      <td>1</td>\n",
       "      <td>1</td>\n",
       "      <td>1</td>\n",
       "      <td>1</td>\n",
       "      <td>1</td>\n",
       "      <td>1</td>\n",
       "      <td>1</td>\n",
       "    </tr>\n",
       "    <tr>\n",
       "      <th>Palo Alto</th>\n",
       "      <td>3</td>\n",
       "      <td>3</td>\n",
       "      <td>3</td>\n",
       "      <td>3</td>\n",
       "      <td>3</td>\n",
       "      <td>3</td>\n",
       "      <td>3</td>\n",
       "      <td>3</td>\n",
       "      <td>3</td>\n",
       "      <td>3</td>\n",
       "      <td>3</td>\n",
       "      <td>3</td>\n",
       "      <td>3</td>\n",
       "    </tr>\n",
       "    <tr>\n",
       "      <th>Redwood City</th>\n",
       "      <td>1</td>\n",
       "      <td>1</td>\n",
       "      <td>1</td>\n",
       "      <td>1</td>\n",
       "      <td>1</td>\n",
       "      <td>1</td>\n",
       "      <td>1</td>\n",
       "      <td>1</td>\n",
       "      <td>1</td>\n",
       "      <td>1</td>\n",
       "      <td>1</td>\n",
       "      <td>1</td>\n",
       "      <td>1</td>\n",
       "    </tr>\n",
       "    <tr>\n",
       "      <th>San Jose</th>\n",
       "      <td>1</td>\n",
       "      <td>1</td>\n",
       "      <td>1</td>\n",
       "      <td>1</td>\n",
       "      <td>1</td>\n",
       "      <td>1</td>\n",
       "      <td>1</td>\n",
       "      <td>1</td>\n",
       "      <td>1</td>\n",
       "      <td>1</td>\n",
       "      <td>1</td>\n",
       "      <td>1</td>\n",
       "      <td>1</td>\n",
       "    </tr>\n",
       "  </tbody>\n",
       "</table>\n",
       "</div>"
      ],
      "text/plain": [
       "                                      station_id  name  lat  long  dockcount  \\\n",
       "three_cluster_landmark landmark                                                \n",
       "0                      Mountain View           1     1    1     1          1   \n",
       "                       Redwood City            1     1    1     1          1   \n",
       "                       San Francisco          25    25   25    25         25   \n",
       "                       San Jose                1     1    1     1          1   \n",
       "1                      Mountain View           5     5    5     5          5   \n",
       "                       Palo Alto               2     2    2     2          2   \n",
       "                       Redwood City            5     5    5     5          5   \n",
       "                       San Francisco          10    10   10    10         10   \n",
       "                       San Jose               14    14   14    14         14   \n",
       "2                      Mountain View           1     1    1     1          1   \n",
       "                       Palo Alto               3     3    3     3          3   \n",
       "                       Redwood City            1     1    1     1          1   \n",
       "                       San Jose                1     1    1     1          1   \n",
       "\n",
       "                                      installation  Start Station  \\\n",
       "three_cluster_landmark landmark                                     \n",
       "0                      Mountain View             1              1   \n",
       "                       Redwood City              1              1   \n",
       "                       San Francisco            25             25   \n",
       "                       San Jose                  1              1   \n",
       "1                      Mountain View             5              5   \n",
       "                       Palo Alto                 2              2   \n",
       "                       Redwood City              5              5   \n",
       "                       San Francisco            10             10   \n",
       "                       San Jose                 14             14   \n",
       "2                      Mountain View             1              1   \n",
       "                       Palo Alto                 3              3   \n",
       "                       Redwood City              1              1   \n",
       "                       San Jose                  1              1   \n",
       "\n",
       "                                      End Station  trips_all_year  \\\n",
       "three_cluster_landmark landmark                                     \n",
       "0                      Mountain View            1               1   \n",
       "                       Redwood City             1               1   \n",
       "                       San Francisco           25              25   \n",
       "                       San Jose                 1               1   \n",
       "1                      Mountain View            5               5   \n",
       "                       Palo Alto                2               2   \n",
       "                       Redwood City             5               5   \n",
       "                       San Francisco           10              10   \n",
       "                       San Jose                14              14   \n",
       "2                      Mountain View            1               1   \n",
       "                       Palo Alto                3               3   \n",
       "                       Redwood City             1               1   \n",
       "                       San Jose                 1               1   \n",
       "\n",
       "                                      customer_ratio  Duration  \\\n",
       "three_cluster_landmark landmark                                  \n",
       "0                      Mountain View               1         1   \n",
       "                       Redwood City                1         1   \n",
       "                       San Francisco              25        25   \n",
       "                       San Jose                    1         1   \n",
       "1                      Mountain View               5         5   \n",
       "                       Palo Alto                   2         2   \n",
       "                       Redwood City                5         5   \n",
       "                       San Francisco              10        10   \n",
       "                       San Jose                   14        14   \n",
       "2                      Mountain View               1         1   \n",
       "                       Palo Alto                   3         3   \n",
       "                       Redwood City                1         1   \n",
       "                       San Jose                    1         1   \n",
       "\n",
       "                                      kmean_landmark  two_cluster_landmark  \n",
       "three_cluster_landmark landmark                                             \n",
       "0                      Mountain View               1                     1  \n",
       "                       Redwood City                1                     1  \n",
       "                       San Francisco              25                    25  \n",
       "                       San Jose                    1                     1  \n",
       "1                      Mountain View               5                     5  \n",
       "                       Palo Alto                   2                     2  \n",
       "                       Redwood City                5                     5  \n",
       "                       San Francisco              10                    10  \n",
       "                       San Jose                   14                    14  \n",
       "2                      Mountain View               1                     1  \n",
       "                       Palo Alto                   3                     3  \n",
       "                       Redwood City                1                     1  \n",
       "                       San Jose                    1                     1  "
      ]
     },
     "execution_count": 81,
     "metadata": {},
     "output_type": "execute_result"
    }
   ],
   "source": [
    "station_df['three_cluster_landmark'] = estimator_rand_three.labels_\n",
    "station_df.groupby(['three_cluster_landmark', 'landmark']).count()"
   ]
  },
  {
   "cell_type": "markdown",
   "metadata": {},
   "source": [
    "We still have the cluster with the small stations, used mainly by customers\n",
    "Considering the other two clusters, the first are the \"San Francisco\" - style stations. They are large stations, used a lot, mainly by subscribers for short trips.\n",
    "The remaining cluster contains stations from all cities with medium values on all dimensions"
   ]
  },
  {
   "cell_type": "code",
   "execution_count": 87,
   "metadata": {
    "collapsed": true
   },
   "outputs": [],
   "source": [
    "san_francisco_like = station_df[station_df['three_cluster_landmark'] == 0]\n",
    "small = station_df[station_df['three_cluster_landmark'] == 2]\n",
    "other = station_df[station_df['three_cluster_landmark'] == 1]"
   ]
  },
  {
   "cell_type": "code",
   "execution_count": 97,
   "metadata": {
    "collapsed": false
   },
   "outputs": [
    {
     "data": {
      "text/plain": [
       "array([<matplotlib.axes._subplots.AxesSubplot object at 0x110dceda0>], dtype=object)"
      ]
     },
     "execution_count": 97,
     "metadata": {},
     "output_type": "execute_result"
    },
    {
     "data": {
      "image/png": "[encoded data removed]",
      "text/plain": [
       "<matplotlib.figure.Figure at 0x111803b38>"
      ]
     },
     "metadata": {},
     "output_type": "display_data"
    },
    {
     "data": {
      "image/png": "[encoded data removed]",
      "text/plain": [
       "<matplotlib.figure.Figure at 0x111537dd8>"
      ]
     },
     "metadata": {},
     "output_type": "display_data"
    },
    {
     "data": {
      "image/png": "[encoded data removed]",
      "text/plain": [
       "<matplotlib.figure.Figure at 0x111d05cc0>"
      ]
     },
     "metadata": {},
     "output_type": "display_data"
    },
    {
     "data": {
      "image/png": "[encoded data removed]",
      "text/plain": [
       "<matplotlib.figure.Figure at 0x10f5a7470>"
      ]
     },
     "metadata": {},
     "output_type": "display_data"
    },
    {
     "data": {
      "image/png": "[encoded data removed]",
      "text/plain": [
       "<matplotlib.figure.Figure at 0x111d86080>"
      ]
     },
     "metadata": {},
     "output_type": "display_data"
    },
    {
     "data": {
      "image/png": "[encoded data removed]",
      "text/plain": [
       "<matplotlib.figure.Figure at 0x10d27d908>"
      ]
     },
     "metadata": {},
     "output_type": "display_data"
    }
   ],
   "source": [
    "ax = san_francisco_like.plot(kind='scatter', x='Duration', y='customer_ratio', color='purple', label='san_francisco_like')\n",
    "ax = small.plot(kind='scatter', x='Duration', y='customer_ratio', color='DarkGreen', label='small', ax=ax)\n",
    "other.plot(kind='scatter', x='Duration', y='customer_ratio', color='yellow', label='other', ax=ax, subplots=True)\n",
    "\n",
    "bx = san_francisco_like.plot(kind='scatter', x='Duration', y='trips_all_year', color='purple', label='san_francisco_like')\n",
    "bx = small.plot(kind='scatter', x='Duration', y='trips_all_year', color='DarkGreen', label='small', ax=bx)\n",
    "other.plot(kind='scatter', x='Duration', y='trips_all_year', color='yellow', label='other', ax=bx, subplots=True)\n",
    "\n",
    "cx = san_francisco_like.plot(kind='scatter', x='Duration', y='dockcount', color='purple', label='san_francisco_like')\n",
    "cx = small.plot(kind='scatter', x='Duration', y='dockcount', color='DarkGreen', label='small', ax=cx)\n",
    "other.plot(kind='scatter', x='Duration', y='dockcount', color='yellow', label='other', ax=cx, subplots=True)\n",
    "\n",
    "dx = san_francisco_like.plot(kind='scatter', x='customer_ratio', y='trips_all_year', color='purple', label='san_francisco_like')\n",
    "dx = small.plot(kind='scatter', x='customer_ratio', y='trips_all_year', color='DarkGreen', label='small', ax=dx)\n",
    "other.plot(kind='scatter', x='customer_ratio', y='trips_all_year', color='yellow', label='other', ax=dx, subplots=True, xlim=(0,3.5))\n",
    "\n",
    "ex = san_francisco_like.plot(kind='scatter', x='customer_ratio', y='dockcount', color='purple', label='san_francisco_like')\n",
    "ex = small.plot(kind='scatter', x='customer_ratio', y='dockcount', color='DarkGreen', label='small', ax=ex)\n",
    "other.plot(kind='scatter', x='customer_ratio', y='dockcount', color='yellow', label='other', ax=ex, subplots=True, xlim=(0,3.5))\n",
    "\n",
    "fx = san_francisco_like.plot(kind='scatter', x='trips_all_year', y='dockcount', color='purple', label='san_francisco_like')\n",
    "fx = small.plot(kind='scatter', x='trips_all_year', y='dockcount', color='DarkGreen', label='small', ax=fx)\n",
    "other.plot(kind='scatter', x='trips_all_year', y='dockcount', color='yellow', label='other', ax=fx, subplots=True, xlim=(0,25000))"
   ]
  },
  {
   "cell_type": "code",
   "execution_count": null,
   "metadata": {
    "collapsed": true
   },
   "outputs": [],
   "source": []
  }
 ],
 "metadata": {
  "kernelspec": {
   "display_name": "Python 3",
   "language": "python",
   "name": "python3"
  },
  "language_info": {
   "codemirror_mode": {
    "name": "ipython",
    "version": 3
   },
   "file_extension": ".py",
   "mimetype": "text/x-python",
   "name": "python",
   "nbconvert_exporter": "python",
   "pygments_lexer": "ipython3",
   "version": "3.4.3"
  }
 },
 "nbformat": 4,
 "nbformat_minor": 0
}
